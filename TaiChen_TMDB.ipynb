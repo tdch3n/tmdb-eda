{
 "cells": [
  {
   "cell_type": "markdown",
   "id": "471a68d5-839b-4d33-b78c-7fb4efc21fe4",
   "metadata": {
    "tags": []
   },
   "source": [
    "# Programmatic Data Wrangling, an exploration of TMDB_movies.csv\n",
    "<hr/>"
   ]
  },
  {
   "cell_type": "markdown",
   "id": "b50b9cb7-c957-4cf8-ae55-ff0823170620",
   "metadata": {
    "jp-MarkdownHeadingCollapsed": true,
    "tags": []
   },
   "source": [
    "## Prerequisites"
   ]
  },
  {
   "cell_type": "markdown",
   "id": "0dd086ce-739a-434e-b007-f68c07b62190",
   "metadata": {},
   "source": [
    "<ol>\n",
    "    <li>Before running the code please ensure that \"TMDB_movies.csv\" is saved in the same folder as this notebook.</li>\n",
    "    <li>Please run the following code in order to import the necessary libraries for the rest to run.</li>\n",
    "</ol>"
   ]
  },
  {
   "cell_type": "code",
   "execution_count": 2,
   "id": "7a42c295-2e85-4ecc-b1b8-8bc8c4ccb795",
   "metadata": {
    "tags": []
   },
   "outputs": [],
   "source": [
    "import numpy as np  # For maths\n",
    "import seaborn as sns # For visualisations\n",
    "import matplotlib.pyplot as plt # More for visualisation\n",
    "import pandas as pd # For data analysis"
   ]
  },
  {
   "cell_type": "markdown",
   "id": "9d114009-5ffe-4fcb-89de-0ced8939f510",
   "metadata": {
    "jp-MarkdownHeadingCollapsed": true,
    "tags": []
   },
   "source": [
    "## Creation of data frame and brief look at what is going on"
   ]
  },
  {
   "cell_type": "code",
   "execution_count": 4,
   "id": "4775a8d4-966f-454c-8d45-4ba932eca6fb",
   "metadata": {
    "tags": []
   },
   "outputs": [],
   "source": [
    "df = pd.read_csv(\"TMDB_movies.csv\") # Assigning the data frame to name 'df'"
   ]
  },
  {
   "cell_type": "code",
   "execution_count": 5,
   "id": "e5832e5a-4449-423b-bbe4-6fd36b9c7956",
   "metadata": {
    "tags": []
   },
   "outputs": [
    {
     "data": {
      "text/plain": [
       "(4803, 20)"
      ]
     },
     "execution_count": 5,
     "metadata": {},
     "output_type": "execute_result"
    }
   ],
   "source": [
    "df.shape # Number of (rows, columns)"
   ]
  },
  {
   "cell_type": "code",
   "execution_count": 6,
   "id": "6b6b5be0-4d71-4a3c-980b-bde0d29c49c7",
   "metadata": {
    "tags": []
   },
   "outputs": [
    {
     "data": {
      "text/html": [
       "<div>\n",
       "<style scoped>\n",
       "    .dataframe tbody tr th:only-of-type {\n",
       "        vertical-align: middle;\n",
       "    }\n",
       "\n",
       "    .dataframe tbody tr th {\n",
       "        vertical-align: top;\n",
       "    }\n",
       "\n",
       "    .dataframe thead th {\n",
       "        text-align: right;\n",
       "    }\n",
       "</style>\n",
       "<table border=\"1\" class=\"dataframe\">\n",
       "  <thead>\n",
       "    <tr style=\"text-align: right;\">\n",
       "      <th></th>\n",
       "      <th>budget</th>\n",
       "      <th>genres</th>\n",
       "      <th>homepage</th>\n",
       "      <th>id</th>\n",
       "      <th>keywords</th>\n",
       "      <th>original_language</th>\n",
       "      <th>original_title</th>\n",
       "      <th>overview</th>\n",
       "      <th>popularity</th>\n",
       "      <th>production_companies</th>\n",
       "      <th>production_countries</th>\n",
       "      <th>release_date</th>\n",
       "      <th>revenue</th>\n",
       "      <th>runtime</th>\n",
       "      <th>spoken_languages</th>\n",
       "      <th>status</th>\n",
       "      <th>tagline</th>\n",
       "      <th>title</th>\n",
       "      <th>vote_average</th>\n",
       "      <th>vote_count</th>\n",
       "    </tr>\n",
       "  </thead>\n",
       "  <tbody>\n",
       "    <tr>\n",
       "      <th>0</th>\n",
       "      <td>237000000</td>\n",
       "      <td>[{\"id\": 28, \"name\": \"Action\"}, {\"id\": 12, \"nam...</td>\n",
       "      <td>http://www.avatarmovie.com/</td>\n",
       "      <td>19995</td>\n",
       "      <td>[{\"id\": 1463, \"name\": \"culture clash\"}, {\"id\":...</td>\n",
       "      <td>en</td>\n",
       "      <td>Avatar</td>\n",
       "      <td>In the 22nd century, a paraplegic Marine is di...</td>\n",
       "      <td>150.437577</td>\n",
       "      <td>[{\"name\": \"Ingenious Film Partners\", \"id\": 289...</td>\n",
       "      <td>[{\"iso_3166_1\": \"US\", \"name\": \"United States o...</td>\n",
       "      <td>2009-12-10</td>\n",
       "      <td>2787965087</td>\n",
       "      <td>162.0</td>\n",
       "      <td>[{\"iso_639_1\": \"en\", \"name\": \"English\"}, {\"iso...</td>\n",
       "      <td>Released</td>\n",
       "      <td>Enter the World of Pandora.</td>\n",
       "      <td>Avatar</td>\n",
       "      <td>7.2</td>\n",
       "      <td>11800</td>\n",
       "    </tr>\n",
       "    <tr>\n",
       "      <th>1</th>\n",
       "      <td>300000000</td>\n",
       "      <td>[{\"id\": 12, \"name\": \"Adventure\"}, {\"id\": 14, \"...</td>\n",
       "      <td>http://disney.go.com/disneypictures/pirates/</td>\n",
       "      <td>285</td>\n",
       "      <td>[{\"id\": 270, \"name\": \"ocean\"}, {\"id\": 726, \"na...</td>\n",
       "      <td>en</td>\n",
       "      <td>Pirates of the Caribbean: At World's End</td>\n",
       "      <td>Captain Barbossa, long believed to be dead, ha...</td>\n",
       "      <td>139.082615</td>\n",
       "      <td>[{\"name\": \"Walt Disney Pictures\", \"id\": 2}, {\"...</td>\n",
       "      <td>[{\"iso_3166_1\": \"US\", \"name\": \"United States o...</td>\n",
       "      <td>2007-05-19</td>\n",
       "      <td>961000000</td>\n",
       "      <td>169.0</td>\n",
       "      <td>[{\"iso_639_1\": \"en\", \"name\": \"English\"}]</td>\n",
       "      <td>Released</td>\n",
       "      <td>At the end of the world, the adventure begins.</td>\n",
       "      <td>Pirates of the Caribbean: At World's End</td>\n",
       "      <td>6.9</td>\n",
       "      <td>4500</td>\n",
       "    </tr>\n",
       "    <tr>\n",
       "      <th>2</th>\n",
       "      <td>245000000</td>\n",
       "      <td>[{\"id\": 28, \"name\": \"Action\"}, {\"id\": 12, \"nam...</td>\n",
       "      <td>http://www.sonypictures.com/movies/spectre/</td>\n",
       "      <td>206647</td>\n",
       "      <td>[{\"id\": 470, \"name\": \"spy\"}, {\"id\": 818, \"name...</td>\n",
       "      <td>en</td>\n",
       "      <td>Spectre</td>\n",
       "      <td>A cryptic message from Bond’s past sends him o...</td>\n",
       "      <td>107.376788</td>\n",
       "      <td>[{\"name\": \"Columbia Pictures\", \"id\": 5}, {\"nam...</td>\n",
       "      <td>[{\"iso_3166_1\": \"GB\", \"name\": \"United Kingdom\"...</td>\n",
       "      <td>2015-10-26</td>\n",
       "      <td>880674609</td>\n",
       "      <td>148.0</td>\n",
       "      <td>[{\"iso_639_1\": \"fr\", \"name\": \"Fran\\u00e7ais\"},...</td>\n",
       "      <td>Released</td>\n",
       "      <td>A Plan No One Escapes</td>\n",
       "      <td>Spectre</td>\n",
       "      <td>6.3</td>\n",
       "      <td>4466</td>\n",
       "    </tr>\n",
       "    <tr>\n",
       "      <th>3</th>\n",
       "      <td>250000000</td>\n",
       "      <td>[{\"id\": 28, \"name\": \"Action\"}, {\"id\": 80, \"nam...</td>\n",
       "      <td>http://www.thedarkknightrises.com/</td>\n",
       "      <td>49026</td>\n",
       "      <td>[{\"id\": 849, \"name\": \"dc comics\"}, {\"id\": 853,...</td>\n",
       "      <td>en</td>\n",
       "      <td>The Dark Knight Rises</td>\n",
       "      <td>Following the death of District Attorney Harve...</td>\n",
       "      <td>112.312950</td>\n",
       "      <td>[{\"name\": \"Legendary Pictures\", \"id\": 923}, {\"...</td>\n",
       "      <td>[{\"iso_3166_1\": \"US\", \"name\": \"United States o...</td>\n",
       "      <td>2012-07-16</td>\n",
       "      <td>1084939099</td>\n",
       "      <td>165.0</td>\n",
       "      <td>[{\"iso_639_1\": \"en\", \"name\": \"English\"}]</td>\n",
       "      <td>Released</td>\n",
       "      <td>The Legend Ends</td>\n",
       "      <td>The Dark Knight Rises</td>\n",
       "      <td>7.6</td>\n",
       "      <td>9106</td>\n",
       "    </tr>\n",
       "    <tr>\n",
       "      <th>4</th>\n",
       "      <td>260000000</td>\n",
       "      <td>[{\"id\": 28, \"name\": \"Action\"}, {\"id\": 12, \"nam...</td>\n",
       "      <td>http://movies.disney.com/john-carter</td>\n",
       "      <td>49529</td>\n",
       "      <td>[{\"id\": 818, \"name\": \"based on novel\"}, {\"id\":...</td>\n",
       "      <td>en</td>\n",
       "      <td>John Carter</td>\n",
       "      <td>John Carter is a war-weary, former military ca...</td>\n",
       "      <td>43.926995</td>\n",
       "      <td>[{\"name\": \"Walt Disney Pictures\", \"id\": 2}]</td>\n",
       "      <td>[{\"iso_3166_1\": \"US\", \"name\": \"United States o...</td>\n",
       "      <td>2012-03-07</td>\n",
       "      <td>284139100</td>\n",
       "      <td>132.0</td>\n",
       "      <td>[{\"iso_639_1\": \"en\", \"name\": \"English\"}]</td>\n",
       "      <td>Released</td>\n",
       "      <td>Lost in our world, found in another.</td>\n",
       "      <td>John Carter</td>\n",
       "      <td>6.1</td>\n",
       "      <td>2124</td>\n",
       "    </tr>\n",
       "  </tbody>\n",
       "</table>\n",
       "</div>"
      ],
      "text/plain": [
       "      budget                                             genres  \\\n",
       "0  237000000  [{\"id\": 28, \"name\": \"Action\"}, {\"id\": 12, \"nam...   \n",
       "1  300000000  [{\"id\": 12, \"name\": \"Adventure\"}, {\"id\": 14, \"...   \n",
       "2  245000000  [{\"id\": 28, \"name\": \"Action\"}, {\"id\": 12, \"nam...   \n",
       "3  250000000  [{\"id\": 28, \"name\": \"Action\"}, {\"id\": 80, \"nam...   \n",
       "4  260000000  [{\"id\": 28, \"name\": \"Action\"}, {\"id\": 12, \"nam...   \n",
       "\n",
       "                                       homepage      id  \\\n",
       "0                   http://www.avatarmovie.com/   19995   \n",
       "1  http://disney.go.com/disneypictures/pirates/     285   \n",
       "2   http://www.sonypictures.com/movies/spectre/  206647   \n",
       "3            http://www.thedarkknightrises.com/   49026   \n",
       "4          http://movies.disney.com/john-carter   49529   \n",
       "\n",
       "                                            keywords original_language  \\\n",
       "0  [{\"id\": 1463, \"name\": \"culture clash\"}, {\"id\":...                en   \n",
       "1  [{\"id\": 270, \"name\": \"ocean\"}, {\"id\": 726, \"na...                en   \n",
       "2  [{\"id\": 470, \"name\": \"spy\"}, {\"id\": 818, \"name...                en   \n",
       "3  [{\"id\": 849, \"name\": \"dc comics\"}, {\"id\": 853,...                en   \n",
       "4  [{\"id\": 818, \"name\": \"based on novel\"}, {\"id\":...                en   \n",
       "\n",
       "                             original_title  \\\n",
       "0                                    Avatar   \n",
       "1  Pirates of the Caribbean: At World's End   \n",
       "2                                   Spectre   \n",
       "3                     The Dark Knight Rises   \n",
       "4                               John Carter   \n",
       "\n",
       "                                            overview  popularity  \\\n",
       "0  In the 22nd century, a paraplegic Marine is di...  150.437577   \n",
       "1  Captain Barbossa, long believed to be dead, ha...  139.082615   \n",
       "2  A cryptic message from Bond’s past sends him o...  107.376788   \n",
       "3  Following the death of District Attorney Harve...  112.312950   \n",
       "4  John Carter is a war-weary, former military ca...   43.926995   \n",
       "\n",
       "                                production_companies  \\\n",
       "0  [{\"name\": \"Ingenious Film Partners\", \"id\": 289...   \n",
       "1  [{\"name\": \"Walt Disney Pictures\", \"id\": 2}, {\"...   \n",
       "2  [{\"name\": \"Columbia Pictures\", \"id\": 5}, {\"nam...   \n",
       "3  [{\"name\": \"Legendary Pictures\", \"id\": 923}, {\"...   \n",
       "4        [{\"name\": \"Walt Disney Pictures\", \"id\": 2}]   \n",
       "\n",
       "                                production_countries release_date     revenue  \\\n",
       "0  [{\"iso_3166_1\": \"US\", \"name\": \"United States o...   2009-12-10  2787965087   \n",
       "1  [{\"iso_3166_1\": \"US\", \"name\": \"United States o...   2007-05-19   961000000   \n",
       "2  [{\"iso_3166_1\": \"GB\", \"name\": \"United Kingdom\"...   2015-10-26   880674609   \n",
       "3  [{\"iso_3166_1\": \"US\", \"name\": \"United States o...   2012-07-16  1084939099   \n",
       "4  [{\"iso_3166_1\": \"US\", \"name\": \"United States o...   2012-03-07   284139100   \n",
       "\n",
       "   runtime                                   spoken_languages    status  \\\n",
       "0    162.0  [{\"iso_639_1\": \"en\", \"name\": \"English\"}, {\"iso...  Released   \n",
       "1    169.0           [{\"iso_639_1\": \"en\", \"name\": \"English\"}]  Released   \n",
       "2    148.0  [{\"iso_639_1\": \"fr\", \"name\": \"Fran\\u00e7ais\"},...  Released   \n",
       "3    165.0           [{\"iso_639_1\": \"en\", \"name\": \"English\"}]  Released   \n",
       "4    132.0           [{\"iso_639_1\": \"en\", \"name\": \"English\"}]  Released   \n",
       "\n",
       "                                          tagline  \\\n",
       "0                     Enter the World of Pandora.   \n",
       "1  At the end of the world, the adventure begins.   \n",
       "2                           A Plan No One Escapes   \n",
       "3                                 The Legend Ends   \n",
       "4            Lost in our world, found in another.   \n",
       "\n",
       "                                      title  vote_average  vote_count  \n",
       "0                                    Avatar           7.2       11800  \n",
       "1  Pirates of the Caribbean: At World's End           6.9        4500  \n",
       "2                                   Spectre           6.3        4466  \n",
       "3                     The Dark Knight Rises           7.6        9106  \n",
       "4                               John Carter           6.1        2124  "
      ]
     },
     "execution_count": 6,
     "metadata": {},
     "output_type": "execute_result"
    }
   ],
   "source": [
    "df.head(5) # Display first 5 rows of the dataframe to see what is in each of the columns"
   ]
  },
  {
   "cell_type": "markdown",
   "id": "27ae0502-279f-4899-bb44-3d1df6f792a1",
   "metadata": {
    "jp-MarkdownHeadingCollapsed": true,
    "tags": []
   },
   "source": [
    "## Data cleaning"
   ]
  },
  {
   "cell_type": "markdown",
   "id": "c2210716-c65e-4bcc-aed7-828c9b97cba1",
   "metadata": {
    "tags": []
   },
   "source": [
    "### Null values\n",
    "\n",
    "#### Finding null values "
   ]
  },
  {
   "cell_type": "code",
   "execution_count": 9,
   "id": "96bd1f1d-1ccc-4b25-b4cb-e4e76e052d30",
   "metadata": {
    "tags": []
   },
   "outputs": [
    {
     "data": {
      "text/plain": [
       "budget                     0\n",
       "genres                     0\n",
       "homepage                3091\n",
       "id                         0\n",
       "keywords                   0\n",
       "original_language          0\n",
       "original_title             0\n",
       "overview                   3\n",
       "popularity                 0\n",
       "production_companies       0\n",
       "production_countries       0\n",
       "release_date               1\n",
       "revenue                    0\n",
       "runtime                    2\n",
       "spoken_languages           0\n",
       "status                     0\n",
       "tagline                  844\n",
       "title                      0\n",
       "vote_average               0\n",
       "vote_count                 0\n",
       "dtype: int64"
      ]
     },
     "execution_count": 9,
     "metadata": {},
     "output_type": "execute_result"
    }
   ],
   "source": [
    "df.isnull().sum() # Displays total number of null values for each movie"
   ]
  },
  {
   "cell_type": "markdown",
   "id": "5a879df4-009c-43d4-afba-8b1ce02409d4",
   "metadata": {
    "tags": []
   },
   "source": [
    "#### Homepage\n",
    "Due to the fact that 64% of the data in this column are null values and the column as a whole provides little insight into the movies, I have decided to drop the column in order to avoid interference when further exploring the data. The code for this can be seen below:"
   ]
  },
  {
   "cell_type": "code",
   "execution_count": 11,
   "id": "99b566a4-8942-4eb4-b9a9-b222a68b1cb4",
   "metadata": {
    "tags": []
   },
   "outputs": [],
   "source": [
    "df.drop(columns = \"homepage\", inplace = True) # Dropping the homepage column from df"
   ]
  },
  {
   "cell_type": "markdown",
   "id": "d275d1b3-91d8-4723-9057-dddd3462f072",
   "metadata": {},
   "source": [
    "#### Release date\n",
    "There is only one null value in release_date. Upon checking with the line of code below, most values in this row are empty lists or just 0, providing no insight so I have decided to drop this row."
   ]
  },
  {
   "cell_type": "code",
   "execution_count": 13,
   "id": "6a0c1d09-c068-4f7b-a158-56df5c9315f7",
   "metadata": {
    "tags": []
   },
   "outputs": [
    {
     "data": {
      "text/html": [
       "<div>\n",
       "<style scoped>\n",
       "    .dataframe tbody tr th:only-of-type {\n",
       "        vertical-align: middle;\n",
       "    }\n",
       "\n",
       "    .dataframe tbody tr th {\n",
       "        vertical-align: top;\n",
       "    }\n",
       "\n",
       "    .dataframe thead th {\n",
       "        text-align: right;\n",
       "    }\n",
       "</style>\n",
       "<table border=\"1\" class=\"dataframe\">\n",
       "  <thead>\n",
       "    <tr style=\"text-align: right;\">\n",
       "      <th></th>\n",
       "      <th>budget</th>\n",
       "      <th>genres</th>\n",
       "      <th>id</th>\n",
       "      <th>keywords</th>\n",
       "      <th>original_language</th>\n",
       "      <th>original_title</th>\n",
       "      <th>overview</th>\n",
       "      <th>popularity</th>\n",
       "      <th>production_companies</th>\n",
       "      <th>production_countries</th>\n",
       "      <th>release_date</th>\n",
       "      <th>revenue</th>\n",
       "      <th>runtime</th>\n",
       "      <th>spoken_languages</th>\n",
       "      <th>status</th>\n",
       "      <th>tagline</th>\n",
       "      <th>title</th>\n",
       "      <th>vote_average</th>\n",
       "      <th>vote_count</th>\n",
       "    </tr>\n",
       "  </thead>\n",
       "  <tbody>\n",
       "    <tr>\n",
       "      <th>4553</th>\n",
       "      <td>0</td>\n",
       "      <td>[]</td>\n",
       "      <td>380097</td>\n",
       "      <td>[]</td>\n",
       "      <td>en</td>\n",
       "      <td>America Is Still the Place</td>\n",
       "      <td>1971 post civil rights San Francisco seemed li...</td>\n",
       "      <td>0.0</td>\n",
       "      <td>[]</td>\n",
       "      <td>[]</td>\n",
       "      <td>NaN</td>\n",
       "      <td>0</td>\n",
       "      <td>0.0</td>\n",
       "      <td>[]</td>\n",
       "      <td>Released</td>\n",
       "      <td>NaN</td>\n",
       "      <td>America Is Still the Place</td>\n",
       "      <td>0.0</td>\n",
       "      <td>0</td>\n",
       "    </tr>\n",
       "  </tbody>\n",
       "</table>\n",
       "</div>"
      ],
      "text/plain": [
       "      budget genres      id keywords original_language  \\\n",
       "4553       0     []  380097       []                en   \n",
       "\n",
       "                  original_title  \\\n",
       "4553  America Is Still the Place   \n",
       "\n",
       "                                               overview  popularity  \\\n",
       "4553  1971 post civil rights San Francisco seemed li...         0.0   \n",
       "\n",
       "     production_companies production_countries release_date  revenue  runtime  \\\n",
       "4553                   []                   []          NaN        0      0.0   \n",
       "\n",
       "     spoken_languages    status tagline                       title  \\\n",
       "4553               []  Released     NaN  America Is Still the Place   \n",
       "\n",
       "      vote_average  vote_count  \n",
       "4553           0.0           0  "
      ]
     },
     "execution_count": 13,
     "metadata": {},
     "output_type": "execute_result"
    }
   ],
   "source": [
    "df[df['release_date'].isnull()] # Returns rows where \"release_date\" is null"
   ]
  },
  {
   "cell_type": "code",
   "execution_count": 15,
   "id": "a836a49e-daac-472d-8f77-c35a9405b4c9",
   "metadata": {
    "tags": []
   },
   "outputs": [
    {
     "data": {
      "text/plain": [
       "(4802, 19)"
      ]
     },
     "execution_count": 15,
     "metadata": {},
     "output_type": "execute_result"
    }
   ],
   "source": [
    "df.dropna(subset = ['release_date']).shape # First testing to ensure only that single row will be dropped"
   ]
  },
  {
   "cell_type": "code",
   "execution_count": 21,
   "id": "d3c91d6e-85b5-4c95-98e5-23c82dbaf005",
   "metadata": {
    "tags": []
   },
   "outputs": [],
   "source": [
    "df.dropna(subset = ['release_date'], inplace = True) # Dropping the row"
   ]
  },
  {
   "cell_type": "markdown",
   "id": "be7cb030-c777-4047-a3d8-796a91f7bce6",
   "metadata": {
    "tags": []
   },
   "source": [
    "#### Overview and Runtime\n",
    "After looking at the 3 rows with null values in overview, it appears that the 2 null values we can find in the runtime column also appear here. Due to the size of the DataFrame being over 4800 rows I decided to remove the rows where overview was null because the impact of losing 3 rows out of 4802 is less than the impact of having null values when analysing the data further. The code for finding the null rows and dropping them can be seen below."
   ]
  },
  {
   "cell_type": "code",
   "execution_count": 26,
   "id": "7439df6b-2b8d-44fa-b485-0ce3d2110055",
   "metadata": {
    "tags": []
   },
   "outputs": [
    {
     "data": {
      "text/html": [
       "<div>\n",
       "<style scoped>\n",
       "    .dataframe tbody tr th:only-of-type {\n",
       "        vertical-align: middle;\n",
       "    }\n",
       "\n",
       "    .dataframe tbody tr th {\n",
       "        vertical-align: top;\n",
       "    }\n",
       "\n",
       "    .dataframe thead th {\n",
       "        text-align: right;\n",
       "    }\n",
       "</style>\n",
       "<table border=\"1\" class=\"dataframe\">\n",
       "  <thead>\n",
       "    <tr style=\"text-align: right;\">\n",
       "      <th></th>\n",
       "      <th>budget</th>\n",
       "      <th>genres</th>\n",
       "      <th>id</th>\n",
       "      <th>keywords</th>\n",
       "      <th>original_language</th>\n",
       "      <th>original_title</th>\n",
       "      <th>overview</th>\n",
       "      <th>popularity</th>\n",
       "      <th>production_companies</th>\n",
       "      <th>production_countries</th>\n",
       "      <th>release_date</th>\n",
       "      <th>revenue</th>\n",
       "      <th>runtime</th>\n",
       "      <th>spoken_languages</th>\n",
       "      <th>status</th>\n",
       "      <th>tagline</th>\n",
       "      <th>title</th>\n",
       "      <th>vote_average</th>\n",
       "      <th>vote_count</th>\n",
       "    </tr>\n",
       "  </thead>\n",
       "  <tbody>\n",
       "    <tr>\n",
       "      <th>2656</th>\n",
       "      <td>15000000</td>\n",
       "      <td>[{\"id\": 18, \"name\": \"Drama\"}]</td>\n",
       "      <td>370980</td>\n",
       "      <td>[{\"id\": 717, \"name\": \"pope\"}, {\"id\": 5565, \"na...</td>\n",
       "      <td>it</td>\n",
       "      <td>Chiamatemi Francesco - Il Papa della gente</td>\n",
       "      <td>NaN</td>\n",
       "      <td>0.738646</td>\n",
       "      <td>[{\"name\": \"Taodue Film\", \"id\": 45724}]</td>\n",
       "      <td>[{\"iso_3166_1\": \"IT\", \"name\": \"Italy\"}]</td>\n",
       "      <td>2015-12-03</td>\n",
       "      <td>0</td>\n",
       "      <td>NaN</td>\n",
       "      <td>[{\"iso_639_1\": \"es\", \"name\": \"Espa\\u00f1ol\"}]</td>\n",
       "      <td>Released</td>\n",
       "      <td>NaN</td>\n",
       "      <td>Chiamatemi Francesco - Il Papa della gente</td>\n",
       "      <td>7.3</td>\n",
       "      <td>12</td>\n",
       "    </tr>\n",
       "    <tr>\n",
       "      <th>4140</th>\n",
       "      <td>2</td>\n",
       "      <td>[{\"id\": 99, \"name\": \"Documentary\"}]</td>\n",
       "      <td>459488</td>\n",
       "      <td>[{\"id\": 6027, \"name\": \"music\"}, {\"id\": 225822,...</td>\n",
       "      <td>en</td>\n",
       "      <td>To Be Frank, Sinatra at 100</td>\n",
       "      <td>NaN</td>\n",
       "      <td>0.050625</td>\n",
       "      <td>[{\"name\": \"Eyeline Entertainment\", \"id\": 60343}]</td>\n",
       "      <td>[{\"iso_3166_1\": \"GB\", \"name\": \"United Kingdom\"}]</td>\n",
       "      <td>2015-12-12</td>\n",
       "      <td>0</td>\n",
       "      <td>NaN</td>\n",
       "      <td>[]</td>\n",
       "      <td>Released</td>\n",
       "      <td>NaN</td>\n",
       "      <td>To Be Frank, Sinatra at 100</td>\n",
       "      <td>0.0</td>\n",
       "      <td>0</td>\n",
       "    </tr>\n",
       "    <tr>\n",
       "      <th>4431</th>\n",
       "      <td>913000</td>\n",
       "      <td>[{\"id\": 99, \"name\": \"Documentary\"}]</td>\n",
       "      <td>292539</td>\n",
       "      <td>[]</td>\n",
       "      <td>de</td>\n",
       "      <td>Food Chains</td>\n",
       "      <td>NaN</td>\n",
       "      <td>0.795698</td>\n",
       "      <td>[]</td>\n",
       "      <td>[]</td>\n",
       "      <td>2014-04-26</td>\n",
       "      <td>0</td>\n",
       "      <td>83.0</td>\n",
       "      <td>[{\"iso_639_1\": \"en\", \"name\": \"English\"}]</td>\n",
       "      <td>Released</td>\n",
       "      <td>NaN</td>\n",
       "      <td>Food Chains</td>\n",
       "      <td>7.4</td>\n",
       "      <td>8</td>\n",
       "    </tr>\n",
       "  </tbody>\n",
       "</table>\n",
       "</div>"
      ],
      "text/plain": [
       "        budget                               genres      id  \\\n",
       "2656  15000000        [{\"id\": 18, \"name\": \"Drama\"}]  370980   \n",
       "4140         2  [{\"id\": 99, \"name\": \"Documentary\"}]  459488   \n",
       "4431    913000  [{\"id\": 99, \"name\": \"Documentary\"}]  292539   \n",
       "\n",
       "                                               keywords original_language  \\\n",
       "2656  [{\"id\": 717, \"name\": \"pope\"}, {\"id\": 5565, \"na...                it   \n",
       "4140  [{\"id\": 6027, \"name\": \"music\"}, {\"id\": 225822,...                en   \n",
       "4431                                                 []                de   \n",
       "\n",
       "                                  original_title overview  popularity  \\\n",
       "2656  Chiamatemi Francesco - Il Papa della gente      NaN    0.738646   \n",
       "4140                 To Be Frank, Sinatra at 100      NaN    0.050625   \n",
       "4431                                 Food Chains      NaN    0.795698   \n",
       "\n",
       "                                  production_companies  \\\n",
       "2656            [{\"name\": \"Taodue Film\", \"id\": 45724}]   \n",
       "4140  [{\"name\": \"Eyeline Entertainment\", \"id\": 60343}]   \n",
       "4431                                                []   \n",
       "\n",
       "                                  production_countries release_date  revenue  \\\n",
       "2656           [{\"iso_3166_1\": \"IT\", \"name\": \"Italy\"}]   2015-12-03        0   \n",
       "4140  [{\"iso_3166_1\": \"GB\", \"name\": \"United Kingdom\"}]   2015-12-12        0   \n",
       "4431                                                []   2014-04-26        0   \n",
       "\n",
       "      runtime                               spoken_languages    status  \\\n",
       "2656      NaN  [{\"iso_639_1\": \"es\", \"name\": \"Espa\\u00f1ol\"}]  Released   \n",
       "4140      NaN                                             []  Released   \n",
       "4431     83.0       [{\"iso_639_1\": \"en\", \"name\": \"English\"}]  Released   \n",
       "\n",
       "     tagline                                       title  vote_average  \\\n",
       "2656     NaN  Chiamatemi Francesco - Il Papa della gente           7.3   \n",
       "4140     NaN                 To Be Frank, Sinatra at 100           0.0   \n",
       "4431     NaN                                 Food Chains           7.4   \n",
       "\n",
       "      vote_count  \n",
       "2656          12  \n",
       "4140           0  \n",
       "4431           8  "
      ]
     },
     "execution_count": 26,
     "metadata": {},
     "output_type": "execute_result"
    }
   ],
   "source": [
    "df[df['overview'].isnull()] # Looking at the rows where overview is null"
   ]
  },
  {
   "cell_type": "code",
   "execution_count": 27,
   "id": "20242af0-e548-400e-91b6-e357d1d50665",
   "metadata": {
    "tags": []
   },
   "outputs": [
    {
     "data": {
      "text/plain": [
       "(4799, 19)"
      ]
     },
     "execution_count": 27,
     "metadata": {},
     "output_type": "execute_result"
    }
   ],
   "source": [
    "df.dropna(subset = ['runtime', 'overview'], how = 'any').shape # Initial check to ensure the 3 rows are being dropped"
   ]
  },
  {
   "cell_type": "code",
   "execution_count": 30,
   "id": "9d4dc743-a8d3-48fb-a069-2a9429a63da0",
   "metadata": {
    "tags": []
   },
   "outputs": [],
   "source": [
    "df.dropna(subset = ['runtime', 'overview'], how = 'any', inplace = True) # Dropping the rows"
   ]
  },
  {
   "cell_type": "code",
   "execution_count": 32,
   "id": "327e2de7-d001-4818-a986-dd6eeebda00b",
   "metadata": {
    "tags": []
   },
   "outputs": [
    {
     "data": {
      "text/plain": [
       "(4799, 19)"
      ]
     },
     "execution_count": 32,
     "metadata": {},
     "output_type": "execute_result"
    }
   ],
   "source": [
    "df.shape"
   ]
  },
  {
   "cell_type": "markdown",
   "id": "203bb22f-4a34-4558-b282-e417b3471f25",
   "metadata": {
    "tags": []
   },
   "source": [
    "#### Tagline\n",
    "Due to the unimportance of a tagline in my analysis and there being over 800 null values, instead of losing all of those rows I will be dropping the \"tagline\" column. This data is missing completely at random and the null values don't give any insight into the dataset."
   ]
  },
  {
   "cell_type": "code",
   "execution_count": 35,
   "id": "5932068d-ed52-42d2-9a60-aac86dce55ff",
   "metadata": {
    "tags": []
   },
   "outputs": [
    {
     "data": {
      "text/html": [
       "<div>\n",
       "<style scoped>\n",
       "    .dataframe tbody tr th:only-of-type {\n",
       "        vertical-align: middle;\n",
       "    }\n",
       "\n",
       "    .dataframe tbody tr th {\n",
       "        vertical-align: top;\n",
       "    }\n",
       "\n",
       "    .dataframe thead th {\n",
       "        text-align: right;\n",
       "    }\n",
       "</style>\n",
       "<table border=\"1\" class=\"dataframe\">\n",
       "  <thead>\n",
       "    <tr style=\"text-align: right;\">\n",
       "      <th></th>\n",
       "      <th>budget</th>\n",
       "      <th>genres</th>\n",
       "      <th>id</th>\n",
       "      <th>keywords</th>\n",
       "      <th>original_language</th>\n",
       "      <th>original_title</th>\n",
       "      <th>overview</th>\n",
       "      <th>popularity</th>\n",
       "      <th>production_companies</th>\n",
       "      <th>production_countries</th>\n",
       "      <th>release_date</th>\n",
       "      <th>revenue</th>\n",
       "      <th>runtime</th>\n",
       "      <th>spoken_languages</th>\n",
       "      <th>status</th>\n",
       "      <th>tagline</th>\n",
       "      <th>title</th>\n",
       "      <th>vote_average</th>\n",
       "      <th>vote_count</th>\n",
       "    </tr>\n",
       "  </thead>\n",
       "  <tbody>\n",
       "    <tr>\n",
       "      <th>10</th>\n",
       "      <td>270000000</td>\n",
       "      <td>[{\"id\": 12, \"name\": \"Adventure\"}, {\"id\": 14, \"...</td>\n",
       "      <td>1452</td>\n",
       "      <td>[{\"id\": 83, \"name\": \"saving the world\"}, {\"id\"...</td>\n",
       "      <td>en</td>\n",
       "      <td>Superman Returns</td>\n",
       "      <td>Superman returns to discover his 5-year absenc...</td>\n",
       "      <td>57.925623</td>\n",
       "      <td>[{\"name\": \"DC Comics\", \"id\": 429}, {\"name\": \"L...</td>\n",
       "      <td>[{\"iso_3166_1\": \"US\", \"name\": \"United States o...</td>\n",
       "      <td>2006-06-28</td>\n",
       "      <td>391081192</td>\n",
       "      <td>154.0</td>\n",
       "      <td>[{\"iso_639_1\": \"en\", \"name\": \"English\"}, {\"iso...</td>\n",
       "      <td>Released</td>\n",
       "      <td>NaN</td>\n",
       "      <td>Superman Returns</td>\n",
       "      <td>5.4</td>\n",
       "      <td>1400</td>\n",
       "    </tr>\n",
       "    <tr>\n",
       "      <th>56</th>\n",
       "      <td>185000000</td>\n",
       "      <td>[{\"id\": 28, \"name\": \"Action\"}, {\"id\": 12, \"nam...</td>\n",
       "      <td>188927</td>\n",
       "      <td>[{\"id\": 9663, \"name\": \"sequel\"}, {\"id\": 9743, ...</td>\n",
       "      <td>en</td>\n",
       "      <td>Star Trek Beyond</td>\n",
       "      <td>The USS Enterprise crew explores the furthest ...</td>\n",
       "      <td>65.352913</td>\n",
       "      <td>[{\"name\": \"Paramount Pictures\", \"id\": 4}, {\"na...</td>\n",
       "      <td>[{\"iso_3166_1\": \"US\", \"name\": \"United States o...</td>\n",
       "      <td>2016-07-07</td>\n",
       "      <td>343471816</td>\n",
       "      <td>122.0</td>\n",
       "      <td>[{\"iso_639_1\": \"en\", \"name\": \"English\"}]</td>\n",
       "      <td>Released</td>\n",
       "      <td>NaN</td>\n",
       "      <td>Star Trek Beyond</td>\n",
       "      <td>6.6</td>\n",
       "      <td>2568</td>\n",
       "    </tr>\n",
       "    <tr>\n",
       "      <th>66</th>\n",
       "      <td>175000000</td>\n",
       "      <td>[{\"id\": 16, \"name\": \"Animation\"}, {\"id\": 35, \"...</td>\n",
       "      <td>14160</td>\n",
       "      <td>[{\"id\": 965, \"name\": \"age difference\"}, {\"id\":...</td>\n",
       "      <td>en</td>\n",
       "      <td>Up</td>\n",
       "      <td>Carl Fredricksen spent his entire life dreamin...</td>\n",
       "      <td>92.201962</td>\n",
       "      <td>[{\"name\": \"Pixar Animation Studios\", \"id\": 3}]</td>\n",
       "      <td>[{\"iso_3166_1\": \"US\", \"name\": \"United States o...</td>\n",
       "      <td>2009-05-13</td>\n",
       "      <td>735099082</td>\n",
       "      <td>96.0</td>\n",
       "      <td>[{\"iso_639_1\": \"en\", \"name\": \"English\"}]</td>\n",
       "      <td>Released</td>\n",
       "      <td>NaN</td>\n",
       "      <td>Up</td>\n",
       "      <td>7.7</td>\n",
       "      <td>6870</td>\n",
       "    </tr>\n",
       "    <tr>\n",
       "      <th>78</th>\n",
       "      <td>175000000</td>\n",
       "      <td>[{\"id\": 10751, \"name\": \"Family\"}, {\"id\": 12, \"...</td>\n",
       "      <td>278927</td>\n",
       "      <td>[{\"id\": 818, \"name\": \"based on novel\"}, {\"id\":...</td>\n",
       "      <td>en</td>\n",
       "      <td>The Jungle Book</td>\n",
       "      <td>After a threat from the tiger Shere Khan force...</td>\n",
       "      <td>94.199316</td>\n",
       "      <td>[{\"name\": \"Walt Disney Pictures\", \"id\": 2}, {\"...</td>\n",
       "      <td>[{\"iso_3166_1\": \"GB\", \"name\": \"United Kingdom\"...</td>\n",
       "      <td>2016-04-07</td>\n",
       "      <td>966550600</td>\n",
       "      <td>106.0</td>\n",
       "      <td>[{\"iso_639_1\": \"en\", \"name\": \"English\"}]</td>\n",
       "      <td>Released</td>\n",
       "      <td>NaN</td>\n",
       "      <td>The Jungle Book</td>\n",
       "      <td>6.7</td>\n",
       "      <td>2892</td>\n",
       "    </tr>\n",
       "    <tr>\n",
       "      <th>128</th>\n",
       "      <td>150000000</td>\n",
       "      <td>[{\"id\": 53, \"name\": \"Thriller\"}, {\"id\": 9648, ...</td>\n",
       "      <td>13448</td>\n",
       "      <td>[{\"id\": 588, \"name\": \"rome\"}, {\"id\": 716, \"nam...</td>\n",
       "      <td>en</td>\n",
       "      <td>Angels &amp; Demons</td>\n",
       "      <td>Harvard symbologist Robert Langdon investigate...</td>\n",
       "      <td>67.447636</td>\n",
       "      <td>[{\"name\": \"Columbia Pictures\", \"id\": 5}, {\"nam...</td>\n",
       "      <td>[{\"iso_3166_1\": \"IT\", \"name\": \"Italy\"}, {\"iso_...</td>\n",
       "      <td>2009-05-13</td>\n",
       "      <td>356613439</td>\n",
       "      <td>138.0</td>\n",
       "      <td>[{\"iso_639_1\": \"en\", \"name\": \"English\"}, {\"iso...</td>\n",
       "      <td>Released</td>\n",
       "      <td>NaN</td>\n",
       "      <td>Angels &amp; Demons</td>\n",
       "      <td>6.5</td>\n",
       "      <td>2129</td>\n",
       "    </tr>\n",
       "    <tr>\n",
       "      <th>...</th>\n",
       "      <td>...</td>\n",
       "      <td>...</td>\n",
       "      <td>...</td>\n",
       "      <td>...</td>\n",
       "      <td>...</td>\n",
       "      <td>...</td>\n",
       "      <td>...</td>\n",
       "      <td>...</td>\n",
       "      <td>...</td>\n",
       "      <td>...</td>\n",
       "      <td>...</td>\n",
       "      <td>...</td>\n",
       "      <td>...</td>\n",
       "      <td>...</td>\n",
       "      <td>...</td>\n",
       "      <td>...</td>\n",
       "      <td>...</td>\n",
       "      <td>...</td>\n",
       "      <td>...</td>\n",
       "    </tr>\n",
       "    <tr>\n",
       "      <th>4790</th>\n",
       "      <td>0</td>\n",
       "      <td>[{\"id\": 18, \"name\": \"Drama\"}, {\"id\": 10769, \"n...</td>\n",
       "      <td>13898</td>\n",
       "      <td>[]</td>\n",
       "      <td>fa</td>\n",
       "      <td>دایره</td>\n",
       "      <td>Various women struggle to function in the oppr...</td>\n",
       "      <td>1.193779</td>\n",
       "      <td>[{\"name\": \"Jafar Panahi Film Productions\", \"id...</td>\n",
       "      <td>[{\"iso_3166_1\": \"IR\", \"name\": \"Iran\"}]</td>\n",
       "      <td>2000-09-08</td>\n",
       "      <td>0</td>\n",
       "      <td>90.0</td>\n",
       "      <td>[{\"iso_639_1\": \"fa\", \"name\": \"\\u0641\\u0627\\u06...</td>\n",
       "      <td>Released</td>\n",
       "      <td>NaN</td>\n",
       "      <td>The Circle</td>\n",
       "      <td>6.6</td>\n",
       "      <td>17</td>\n",
       "    </tr>\n",
       "    <tr>\n",
       "      <th>4794</th>\n",
       "      <td>0</td>\n",
       "      <td>[{\"id\": 53, \"name\": \"Thriller\"}, {\"id\": 27, \"n...</td>\n",
       "      <td>286939</td>\n",
       "      <td>[]</td>\n",
       "      <td>en</td>\n",
       "      <td>Sanctuary: Quite a Conundrum</td>\n",
       "      <td>It should have been just a normal day of sex, ...</td>\n",
       "      <td>0.166513</td>\n",
       "      <td>[{\"name\": \"Gold Lion Films\", \"id\": 37870}, {\"n...</td>\n",
       "      <td>[{\"iso_3166_1\": \"US\", \"name\": \"United States o...</td>\n",
       "      <td>2012-01-20</td>\n",
       "      <td>0</td>\n",
       "      <td>82.0</td>\n",
       "      <td>[{\"iso_639_1\": \"en\", \"name\": \"English\"}]</td>\n",
       "      <td>Released</td>\n",
       "      <td>NaN</td>\n",
       "      <td>Sanctuary: Quite a Conundrum</td>\n",
       "      <td>0.0</td>\n",
       "      <td>0</td>\n",
       "    </tr>\n",
       "    <tr>\n",
       "      <th>4797</th>\n",
       "      <td>0</td>\n",
       "      <td>[{\"id\": 10769, \"name\": \"Foreign\"}, {\"id\": 53, ...</td>\n",
       "      <td>67238</td>\n",
       "      <td>[]</td>\n",
       "      <td>en</td>\n",
       "      <td>Cavite</td>\n",
       "      <td>Adam, a security guard, travels from Californi...</td>\n",
       "      <td>0.022173</td>\n",
       "      <td>[]</td>\n",
       "      <td>[]</td>\n",
       "      <td>2005-03-12</td>\n",
       "      <td>0</td>\n",
       "      <td>80.0</td>\n",
       "      <td>[]</td>\n",
       "      <td>Released</td>\n",
       "      <td>NaN</td>\n",
       "      <td>Cavite</td>\n",
       "      <td>7.5</td>\n",
       "      <td>2</td>\n",
       "    </tr>\n",
       "    <tr>\n",
       "      <th>4800</th>\n",
       "      <td>0</td>\n",
       "      <td>[{\"id\": 35, \"name\": \"Comedy\"}, {\"id\": 18, \"nam...</td>\n",
       "      <td>231617</td>\n",
       "      <td>[{\"id\": 248, \"name\": \"date\"}, {\"id\": 699, \"nam...</td>\n",
       "      <td>en</td>\n",
       "      <td>Signed, Sealed, Delivered</td>\n",
       "      <td>\"Signed, Sealed, Delivered\" introduces a dedic...</td>\n",
       "      <td>1.444476</td>\n",
       "      <td>[{\"name\": \"Front Street Pictures\", \"id\": 3958}...</td>\n",
       "      <td>[{\"iso_3166_1\": \"US\", \"name\": \"United States o...</td>\n",
       "      <td>2013-10-13</td>\n",
       "      <td>0</td>\n",
       "      <td>120.0</td>\n",
       "      <td>[{\"iso_639_1\": \"en\", \"name\": \"English\"}]</td>\n",
       "      <td>Released</td>\n",
       "      <td>NaN</td>\n",
       "      <td>Signed, Sealed, Delivered</td>\n",
       "      <td>7.0</td>\n",
       "      <td>6</td>\n",
       "    </tr>\n",
       "    <tr>\n",
       "      <th>4802</th>\n",
       "      <td>0</td>\n",
       "      <td>[{\"id\": 99, \"name\": \"Documentary\"}]</td>\n",
       "      <td>25975</td>\n",
       "      <td>[{\"id\": 1523, \"name\": \"obsession\"}, {\"id\": 224...</td>\n",
       "      <td>en</td>\n",
       "      <td>My Date with Drew</td>\n",
       "      <td>Ever since the second grade when he first saw ...</td>\n",
       "      <td>1.929883</td>\n",
       "      <td>[{\"name\": \"rusty bear entertainment\", \"id\": 87...</td>\n",
       "      <td>[{\"iso_3166_1\": \"US\", \"name\": \"United States o...</td>\n",
       "      <td>2005-08-05</td>\n",
       "      <td>0</td>\n",
       "      <td>90.0</td>\n",
       "      <td>[{\"iso_639_1\": \"en\", \"name\": \"English\"}]</td>\n",
       "      <td>Released</td>\n",
       "      <td>NaN</td>\n",
       "      <td>My Date with Drew</td>\n",
       "      <td>6.3</td>\n",
       "      <td>16</td>\n",
       "    </tr>\n",
       "  </tbody>\n",
       "</table>\n",
       "<p>840 rows × 19 columns</p>\n",
       "</div>"
      ],
      "text/plain": [
       "         budget                                             genres      id  \\\n",
       "10    270000000  [{\"id\": 12, \"name\": \"Adventure\"}, {\"id\": 14, \"...    1452   \n",
       "56    185000000  [{\"id\": 28, \"name\": \"Action\"}, {\"id\": 12, \"nam...  188927   \n",
       "66    175000000  [{\"id\": 16, \"name\": \"Animation\"}, {\"id\": 35, \"...   14160   \n",
       "78    175000000  [{\"id\": 10751, \"name\": \"Family\"}, {\"id\": 12, \"...  278927   \n",
       "128   150000000  [{\"id\": 53, \"name\": \"Thriller\"}, {\"id\": 9648, ...   13448   \n",
       "...         ...                                                ...     ...   \n",
       "4790          0  [{\"id\": 18, \"name\": \"Drama\"}, {\"id\": 10769, \"n...   13898   \n",
       "4794          0  [{\"id\": 53, \"name\": \"Thriller\"}, {\"id\": 27, \"n...  286939   \n",
       "4797          0  [{\"id\": 10769, \"name\": \"Foreign\"}, {\"id\": 53, ...   67238   \n",
       "4800          0  [{\"id\": 35, \"name\": \"Comedy\"}, {\"id\": 18, \"nam...  231617   \n",
       "4802          0                [{\"id\": 99, \"name\": \"Documentary\"}]   25975   \n",
       "\n",
       "                                               keywords original_language  \\\n",
       "10    [{\"id\": 83, \"name\": \"saving the world\"}, {\"id\"...                en   \n",
       "56    [{\"id\": 9663, \"name\": \"sequel\"}, {\"id\": 9743, ...                en   \n",
       "66    [{\"id\": 965, \"name\": \"age difference\"}, {\"id\":...                en   \n",
       "78    [{\"id\": 818, \"name\": \"based on novel\"}, {\"id\":...                en   \n",
       "128   [{\"id\": 588, \"name\": \"rome\"}, {\"id\": 716, \"nam...                en   \n",
       "...                                                 ...               ...   \n",
       "4790                                                 []                fa   \n",
       "4794                                                 []                en   \n",
       "4797                                                 []                en   \n",
       "4800  [{\"id\": 248, \"name\": \"date\"}, {\"id\": 699, \"nam...                en   \n",
       "4802  [{\"id\": 1523, \"name\": \"obsession\"}, {\"id\": 224...                en   \n",
       "\n",
       "                    original_title  \\\n",
       "10                Superman Returns   \n",
       "56                Star Trek Beyond   \n",
       "66                              Up   \n",
       "78                 The Jungle Book   \n",
       "128                Angels & Demons   \n",
       "...                            ...   \n",
       "4790                         دایره   \n",
       "4794  Sanctuary: Quite a Conundrum   \n",
       "4797                        Cavite   \n",
       "4800     Signed, Sealed, Delivered   \n",
       "4802             My Date with Drew   \n",
       "\n",
       "                                               overview  popularity  \\\n",
       "10    Superman returns to discover his 5-year absenc...   57.925623   \n",
       "56    The USS Enterprise crew explores the furthest ...   65.352913   \n",
       "66    Carl Fredricksen spent his entire life dreamin...   92.201962   \n",
       "78    After a threat from the tiger Shere Khan force...   94.199316   \n",
       "128   Harvard symbologist Robert Langdon investigate...   67.447636   \n",
       "...                                                 ...         ...   \n",
       "4790  Various women struggle to function in the oppr...    1.193779   \n",
       "4794  It should have been just a normal day of sex, ...    0.166513   \n",
       "4797  Adam, a security guard, travels from Californi...    0.022173   \n",
       "4800  \"Signed, Sealed, Delivered\" introduces a dedic...    1.444476   \n",
       "4802  Ever since the second grade when he first saw ...    1.929883   \n",
       "\n",
       "                                   production_companies  \\\n",
       "10    [{\"name\": \"DC Comics\", \"id\": 429}, {\"name\": \"L...   \n",
       "56    [{\"name\": \"Paramount Pictures\", \"id\": 4}, {\"na...   \n",
       "66       [{\"name\": \"Pixar Animation Studios\", \"id\": 3}]   \n",
       "78    [{\"name\": \"Walt Disney Pictures\", \"id\": 2}, {\"...   \n",
       "128   [{\"name\": \"Columbia Pictures\", \"id\": 5}, {\"nam...   \n",
       "...                                                 ...   \n",
       "4790  [{\"name\": \"Jafar Panahi Film Productions\", \"id...   \n",
       "4794  [{\"name\": \"Gold Lion Films\", \"id\": 37870}, {\"n...   \n",
       "4797                                                 []   \n",
       "4800  [{\"name\": \"Front Street Pictures\", \"id\": 3958}...   \n",
       "4802  [{\"name\": \"rusty bear entertainment\", \"id\": 87...   \n",
       "\n",
       "                                   production_countries release_date  \\\n",
       "10    [{\"iso_3166_1\": \"US\", \"name\": \"United States o...   2006-06-28   \n",
       "56    [{\"iso_3166_1\": \"US\", \"name\": \"United States o...   2016-07-07   \n",
       "66    [{\"iso_3166_1\": \"US\", \"name\": \"United States o...   2009-05-13   \n",
       "78    [{\"iso_3166_1\": \"GB\", \"name\": \"United Kingdom\"...   2016-04-07   \n",
       "128   [{\"iso_3166_1\": \"IT\", \"name\": \"Italy\"}, {\"iso_...   2009-05-13   \n",
       "...                                                 ...          ...   \n",
       "4790             [{\"iso_3166_1\": \"IR\", \"name\": \"Iran\"}]   2000-09-08   \n",
       "4794  [{\"iso_3166_1\": \"US\", \"name\": \"United States o...   2012-01-20   \n",
       "4797                                                 []   2005-03-12   \n",
       "4800  [{\"iso_3166_1\": \"US\", \"name\": \"United States o...   2013-10-13   \n",
       "4802  [{\"iso_3166_1\": \"US\", \"name\": \"United States o...   2005-08-05   \n",
       "\n",
       "        revenue  runtime                                   spoken_languages  \\\n",
       "10    391081192    154.0  [{\"iso_639_1\": \"en\", \"name\": \"English\"}, {\"iso...   \n",
       "56    343471816    122.0           [{\"iso_639_1\": \"en\", \"name\": \"English\"}]   \n",
       "66    735099082     96.0           [{\"iso_639_1\": \"en\", \"name\": \"English\"}]   \n",
       "78    966550600    106.0           [{\"iso_639_1\": \"en\", \"name\": \"English\"}]   \n",
       "128   356613439    138.0  [{\"iso_639_1\": \"en\", \"name\": \"English\"}, {\"iso...   \n",
       "...         ...      ...                                                ...   \n",
       "4790          0     90.0  [{\"iso_639_1\": \"fa\", \"name\": \"\\u0641\\u0627\\u06...   \n",
       "4794          0     82.0           [{\"iso_639_1\": \"en\", \"name\": \"English\"}]   \n",
       "4797          0     80.0                                                 []   \n",
       "4800          0    120.0           [{\"iso_639_1\": \"en\", \"name\": \"English\"}]   \n",
       "4802          0     90.0           [{\"iso_639_1\": \"en\", \"name\": \"English\"}]   \n",
       "\n",
       "        status tagline                         title  vote_average  vote_count  \n",
       "10    Released     NaN              Superman Returns           5.4        1400  \n",
       "56    Released     NaN              Star Trek Beyond           6.6        2568  \n",
       "66    Released     NaN                            Up           7.7        6870  \n",
       "78    Released     NaN               The Jungle Book           6.7        2892  \n",
       "128   Released     NaN               Angels & Demons           6.5        2129  \n",
       "...        ...     ...                           ...           ...         ...  \n",
       "4790  Released     NaN                    The Circle           6.6          17  \n",
       "4794  Released     NaN  Sanctuary: Quite a Conundrum           0.0           0  \n",
       "4797  Released     NaN                        Cavite           7.5           2  \n",
       "4800  Released     NaN     Signed, Sealed, Delivered           7.0           6  \n",
       "4802  Released     NaN             My Date with Drew           6.3          16  \n",
       "\n",
       "[840 rows x 19 columns]"
      ]
     },
     "execution_count": 35,
     "metadata": {},
     "output_type": "execute_result"
    }
   ],
   "source": [
    "df[df['tagline'].isnull()] # Seeing where the nulls appear. No pattern."
   ]
  },
  {
   "cell_type": "code",
   "execution_count": 37,
   "id": "04b37acc-5a7a-441e-9349-d74fa9ce1459",
   "metadata": {
    "tags": []
   },
   "outputs": [
    {
     "data": {
      "text/plain": [
       "(4799, 18)"
      ]
     },
     "execution_count": 37,
     "metadata": {},
     "output_type": "execute_result"
    }
   ],
   "source": [
    "df.drop(columns = \"tagline\").shape # Check that the number of columns drops from 19 to 18"
   ]
  },
  {
   "cell_type": "code",
   "execution_count": 39,
   "id": "668d0373-fdd4-4bfb-940a-4449052489f9",
   "metadata": {
    "tags": []
   },
   "outputs": [],
   "source": [
    "df.drop(columns = \"tagline\", inplace = True) # Dropping the column"
   ]
  },
  {
   "cell_type": "markdown",
   "id": "4bf83a53-beda-4467-9b98-d96bf01776e1",
   "metadata": {},
   "source": [
    "<b>Final check to count how many null values remain</b>"
   ]
  },
  {
   "cell_type": "code",
   "execution_count": 42,
   "id": "6903e8e6-5cf5-4469-a2cb-3ad106669803",
   "metadata": {
    "tags": []
   },
   "outputs": [
    {
     "data": {
      "text/plain": [
       "budget                  0\n",
       "genres                  0\n",
       "id                      0\n",
       "keywords                0\n",
       "original_language       0\n",
       "original_title          0\n",
       "overview                0\n",
       "popularity              0\n",
       "production_companies    0\n",
       "production_countries    0\n",
       "release_date            0\n",
       "revenue                 0\n",
       "runtime                 0\n",
       "spoken_languages        0\n",
       "status                  0\n",
       "title                   0\n",
       "vote_average            0\n",
       "vote_count              0\n",
       "dtype: int64"
      ]
     },
     "execution_count": 42,
     "metadata": {},
     "output_type": "execute_result"
    }
   ],
   "source": [
    "df.isnull().sum()"
   ]
  },
  {
   "cell_type": "markdown",
   "id": "44b240b9-ce24-4a58-9922-144eab07d2bf",
   "metadata": {
    "tags": []
   },
   "source": [
    "### Duplicates\n",
    "\n",
    "#### Ensuring formatting is the same\n",
    "Duplicate titles exist in both the original_title and title columns. In order to ensure that no duplicates are hidden due to formatting of the title, I will ensure that all titles follow the same format with single spaces between each word, title casing and no whitespaces on each end."
   ]
  },
  {
   "cell_type": "code",
   "execution_count": 45,
   "id": "6f6bd1e3-2731-4899-967b-58192c19d847",
   "metadata": {
    "tags": []
   },
   "outputs": [],
   "source": [
    "# Removing whitespaces on each end for both columns\n",
    "df['title'] = df['title'].str.strip()\n",
    "df['original_title'] = df['original_title'].str.strip()\n",
    "\n",
    "# Applying title casing to each column\n",
    "df['title'] = df['title'].str.title()\n",
    "df['original_title'] = df['original_title'].str.title()\n",
    "\n",
    "# Replacing any double or more spaces with a single space\n",
    "df['title'] = df['title'].str.replace(r'\\s{2,}', ' ')\n",
    "df['original_title'] = df['original_title'].str.replace(r'\\s{2,}', ' ')"
   ]
  },
  {
   "cell_type": "markdown",
   "id": "48f67db9-f0c1-4072-b7f4-bba7bf858311",
   "metadata": {},
   "source": [
    "#### Checking for duplicate values"
   ]
  },
  {
   "cell_type": "code",
   "execution_count": 48,
   "id": "c745de6b-06d6-4ddf-9db4-9d927633b9bc",
   "metadata": {
    "tags": []
   },
   "outputs": [
    {
     "data": {
      "text/html": [
       "<div>\n",
       "<style scoped>\n",
       "    .dataframe tbody tr th:only-of-type {\n",
       "        vertical-align: middle;\n",
       "    }\n",
       "\n",
       "    .dataframe tbody tr th {\n",
       "        vertical-align: top;\n",
       "    }\n",
       "\n",
       "    .dataframe thead th {\n",
       "        text-align: right;\n",
       "    }\n",
       "</style>\n",
       "<table border=\"1\" class=\"dataframe\">\n",
       "  <thead>\n",
       "    <tr style=\"text-align: right;\">\n",
       "      <th></th>\n",
       "      <th>budget</th>\n",
       "      <th>genres</th>\n",
       "      <th>id</th>\n",
       "      <th>keywords</th>\n",
       "      <th>original_language</th>\n",
       "      <th>original_title</th>\n",
       "      <th>overview</th>\n",
       "      <th>popularity</th>\n",
       "      <th>production_companies</th>\n",
       "      <th>production_countries</th>\n",
       "      <th>release_date</th>\n",
       "      <th>revenue</th>\n",
       "      <th>runtime</th>\n",
       "      <th>spoken_languages</th>\n",
       "      <th>status</th>\n",
       "      <th>title</th>\n",
       "      <th>vote_average</th>\n",
       "      <th>vote_count</th>\n",
       "    </tr>\n",
       "  </thead>\n",
       "  <tbody>\n",
       "    <tr>\n",
       "      <th>972</th>\n",
       "      <td>44000000</td>\n",
       "      <td>[{\"id\": 28, \"name\": \"Action\"}, {\"id\": 12, \"nam...</td>\n",
       "      <td>72710</td>\n",
       "      <td>[{\"id\": 818, \"name\": \"based on novel\"}, {\"id\":...</td>\n",
       "      <td>en</td>\n",
       "      <td>The Host</td>\n",
       "      <td>A parasitic alien soul is injected into the bo...</td>\n",
       "      <td>42.933027</td>\n",
       "      <td>[{\"name\": \"Nick Wechsler Productions\", \"id\": 8...</td>\n",
       "      <td>[{\"iso_3166_1\": \"US\", \"name\": \"United States o...</td>\n",
       "      <td>2013-03-22</td>\n",
       "      <td>63327201</td>\n",
       "      <td>125.0</td>\n",
       "      <td>[{\"iso_639_1\": \"en\", \"name\": \"English\"}]</td>\n",
       "      <td>Released</td>\n",
       "      <td>The Host</td>\n",
       "      <td>6.0</td>\n",
       "      <td>1817</td>\n",
       "    </tr>\n",
       "    <tr>\n",
       "      <th>1359</th>\n",
       "      <td>35000000</td>\n",
       "      <td>[{\"id\": 14, \"name\": \"Fantasy\"}, {\"id\": 28, \"na...</td>\n",
       "      <td>268</td>\n",
       "      <td>[{\"id\": 848, \"name\": \"double life\"}, {\"id\": 84...</td>\n",
       "      <td>en</td>\n",
       "      <td>Batman</td>\n",
       "      <td>The Dark Knight of Gotham City begins his war ...</td>\n",
       "      <td>44.104469</td>\n",
       "      <td>[{\"name\": \"PolyGram Filmed Entertainment\", \"id...</td>\n",
       "      <td>[{\"iso_3166_1\": \"GB\", \"name\": \"United Kingdom\"...</td>\n",
       "      <td>1989-06-23</td>\n",
       "      <td>411348924</td>\n",
       "      <td>126.0</td>\n",
       "      <td>[{\"iso_639_1\": \"en\", \"name\": \"English\"}, {\"iso...</td>\n",
       "      <td>Released</td>\n",
       "      <td>Batman</td>\n",
       "      <td>7.0</td>\n",
       "      <td>2096</td>\n",
       "    </tr>\n",
       "    <tr>\n",
       "      <th>2877</th>\n",
       "      <td>11000000</td>\n",
       "      <td>[{\"id\": 27, \"name\": \"Horror\"}, {\"id\": 18, \"nam...</td>\n",
       "      <td>1255</td>\n",
       "      <td>[{\"id\": 1261, \"name\": \"river\"}, {\"id\": 1880, \"...</td>\n",
       "      <td>ko</td>\n",
       "      <td>괴물</td>\n",
       "      <td>Gang-du is a dim-witted man working at his fat...</td>\n",
       "      <td>27.655270</td>\n",
       "      <td>[{\"name\": \"Cineclick Asia\", \"id\": 685}, {\"name...</td>\n",
       "      <td>[{\"iso_3166_1\": \"KR\", \"name\": \"South Korea\"}]</td>\n",
       "      <td>2006-07-27</td>\n",
       "      <td>88489643</td>\n",
       "      <td>119.0</td>\n",
       "      <td>[{\"iso_639_1\": \"ko\", \"name\": \"\\ud55c\\uad6d\\uc5...</td>\n",
       "      <td>Released</td>\n",
       "      <td>The Host</td>\n",
       "      <td>6.7</td>\n",
       "      <td>537</td>\n",
       "    </tr>\n",
       "    <tr>\n",
       "      <th>3647</th>\n",
       "      <td>0</td>\n",
       "      <td>[{\"id\": 18, \"name\": \"Drama\"}]</td>\n",
       "      <td>39269</td>\n",
       "      <td>[{\"id\": 4470, \"name\": \"punk\"}, {\"id\": 10183, \"...</td>\n",
       "      <td>en</td>\n",
       "      <td>Out Of The Blue</td>\n",
       "      <td>Dennis Hopper is a hard-drinking truck driver ...</td>\n",
       "      <td>0.679351</td>\n",
       "      <td>[{\"name\": \"Robson Street\", \"id\": 71953}]</td>\n",
       "      <td>[{\"iso_3166_1\": \"CA\", \"name\": \"Canada\"}]</td>\n",
       "      <td>1980-05-01</td>\n",
       "      <td>0</td>\n",
       "      <td>94.0</td>\n",
       "      <td>[{\"iso_639_1\": \"en\", \"name\": \"English\"}]</td>\n",
       "      <td>Released</td>\n",
       "      <td>Out Of The Blue</td>\n",
       "      <td>6.5</td>\n",
       "      <td>17</td>\n",
       "    </tr>\n",
       "    <tr>\n",
       "      <th>3693</th>\n",
       "      <td>0</td>\n",
       "      <td>[{\"id\": 18, \"name\": \"Drama\"}]</td>\n",
       "      <td>10844</td>\n",
       "      <td>[{\"id\": 2658, \"name\": \"new zealand\"}, {\"id\": 3...</td>\n",
       "      <td>en</td>\n",
       "      <td>Out Of The Blue</td>\n",
       "      <td>Ordinary people find extraordinary courage in ...</td>\n",
       "      <td>0.706355</td>\n",
       "      <td>[]</td>\n",
       "      <td>[{\"iso_3166_1\": \"NZ\", \"name\": \"New Zealand\"}]</td>\n",
       "      <td>2006-10-12</td>\n",
       "      <td>0</td>\n",
       "      <td>103.0</td>\n",
       "      <td>[{\"iso_639_1\": \"en\", \"name\": \"English\"}]</td>\n",
       "      <td>Released</td>\n",
       "      <td>Out Of The Blue</td>\n",
       "      <td>5.9</td>\n",
       "      <td>18</td>\n",
       "    </tr>\n",
       "    <tr>\n",
       "      <th>4267</th>\n",
       "      <td>1377800</td>\n",
       "      <td>[{\"id\": 10751, \"name\": \"Family\"}, {\"id\": 12, \"...</td>\n",
       "      <td>2661</td>\n",
       "      <td>[{\"id\": 339, \"name\": \"submarine\"}, {\"id\": 849,...</td>\n",
       "      <td>en</td>\n",
       "      <td>Batman</td>\n",
       "      <td>The Dynamic Duo faces four super-villains who ...</td>\n",
       "      <td>9.815394</td>\n",
       "      <td>[{\"name\": \"Twentieth Century Fox Film Corporat...</td>\n",
       "      <td>[{\"iso_3166_1\": \"US\", \"name\": \"United States o...</td>\n",
       "      <td>1966-07-30</td>\n",
       "      <td>0</td>\n",
       "      <td>105.0</td>\n",
       "      <td>[{\"iso_639_1\": \"en\", \"name\": \"English\"}]</td>\n",
       "      <td>Released</td>\n",
       "      <td>Batman</td>\n",
       "      <td>6.1</td>\n",
       "      <td>203</td>\n",
       "    </tr>\n",
       "  </tbody>\n",
       "</table>\n",
       "</div>"
      ],
      "text/plain": [
       "        budget                                             genres     id  \\\n",
       "972   44000000  [{\"id\": 28, \"name\": \"Action\"}, {\"id\": 12, \"nam...  72710   \n",
       "1359  35000000  [{\"id\": 14, \"name\": \"Fantasy\"}, {\"id\": 28, \"na...    268   \n",
       "2877  11000000  [{\"id\": 27, \"name\": \"Horror\"}, {\"id\": 18, \"nam...   1255   \n",
       "3647         0                      [{\"id\": 18, \"name\": \"Drama\"}]  39269   \n",
       "3693         0                      [{\"id\": 18, \"name\": \"Drama\"}]  10844   \n",
       "4267   1377800  [{\"id\": 10751, \"name\": \"Family\"}, {\"id\": 12, \"...   2661   \n",
       "\n",
       "                                               keywords original_language  \\\n",
       "972   [{\"id\": 818, \"name\": \"based on novel\"}, {\"id\":...                en   \n",
       "1359  [{\"id\": 848, \"name\": \"double life\"}, {\"id\": 84...                en   \n",
       "2877  [{\"id\": 1261, \"name\": \"river\"}, {\"id\": 1880, \"...                ko   \n",
       "3647  [{\"id\": 4470, \"name\": \"punk\"}, {\"id\": 10183, \"...                en   \n",
       "3693  [{\"id\": 2658, \"name\": \"new zealand\"}, {\"id\": 3...                en   \n",
       "4267  [{\"id\": 339, \"name\": \"submarine\"}, {\"id\": 849,...                en   \n",
       "\n",
       "       original_title                                           overview  \\\n",
       "972          The Host  A parasitic alien soul is injected into the bo...   \n",
       "1359           Batman  The Dark Knight of Gotham City begins his war ...   \n",
       "2877               괴물  Gang-du is a dim-witted man working at his fat...   \n",
       "3647  Out Of The Blue  Dennis Hopper is a hard-drinking truck driver ...   \n",
       "3693  Out Of The Blue  Ordinary people find extraordinary courage in ...   \n",
       "4267           Batman  The Dynamic Duo faces four super-villains who ...   \n",
       "\n",
       "      popularity                               production_companies  \\\n",
       "972    42.933027  [{\"name\": \"Nick Wechsler Productions\", \"id\": 8...   \n",
       "1359   44.104469  [{\"name\": \"PolyGram Filmed Entertainment\", \"id...   \n",
       "2877   27.655270  [{\"name\": \"Cineclick Asia\", \"id\": 685}, {\"name...   \n",
       "3647    0.679351           [{\"name\": \"Robson Street\", \"id\": 71953}]   \n",
       "3693    0.706355                                                 []   \n",
       "4267    9.815394  [{\"name\": \"Twentieth Century Fox Film Corporat...   \n",
       "\n",
       "                                   production_countries release_date  \\\n",
       "972   [{\"iso_3166_1\": \"US\", \"name\": \"United States o...   2013-03-22   \n",
       "1359  [{\"iso_3166_1\": \"GB\", \"name\": \"United Kingdom\"...   1989-06-23   \n",
       "2877      [{\"iso_3166_1\": \"KR\", \"name\": \"South Korea\"}]   2006-07-27   \n",
       "3647           [{\"iso_3166_1\": \"CA\", \"name\": \"Canada\"}]   1980-05-01   \n",
       "3693      [{\"iso_3166_1\": \"NZ\", \"name\": \"New Zealand\"}]   2006-10-12   \n",
       "4267  [{\"iso_3166_1\": \"US\", \"name\": \"United States o...   1966-07-30   \n",
       "\n",
       "        revenue  runtime                                   spoken_languages  \\\n",
       "972    63327201    125.0           [{\"iso_639_1\": \"en\", \"name\": \"English\"}]   \n",
       "1359  411348924    126.0  [{\"iso_639_1\": \"en\", \"name\": \"English\"}, {\"iso...   \n",
       "2877   88489643    119.0  [{\"iso_639_1\": \"ko\", \"name\": \"\\ud55c\\uad6d\\uc5...   \n",
       "3647          0     94.0           [{\"iso_639_1\": \"en\", \"name\": \"English\"}]   \n",
       "3693          0    103.0           [{\"iso_639_1\": \"en\", \"name\": \"English\"}]   \n",
       "4267          0    105.0           [{\"iso_639_1\": \"en\", \"name\": \"English\"}]   \n",
       "\n",
       "        status            title  vote_average  vote_count  \n",
       "972   Released         The Host           6.0        1817  \n",
       "1359  Released           Batman           7.0        2096  \n",
       "2877  Released         The Host           6.7         537  \n",
       "3647  Released  Out Of The Blue           6.5          17  \n",
       "3693  Released  Out Of The Blue           5.9          18  \n",
       "4267  Released           Batman           6.1         203  "
      ]
     },
     "execution_count": 48,
     "metadata": {},
     "output_type": "execute_result"
    }
   ],
   "source": [
    "df[df.duplicated(subset=['title'], keep=False)] # keep=False shows me all the rows where duplicates occur"
   ]
  },
  {
   "cell_type": "code",
   "execution_count": 50,
   "id": "e7f61fd1-0c74-4527-a272-907b9d090e03",
   "metadata": {
    "tags": []
   },
   "outputs": [
    {
     "data": {
      "text/html": [
       "<div>\n",
       "<style scoped>\n",
       "    .dataframe tbody tr th:only-of-type {\n",
       "        vertical-align: middle;\n",
       "    }\n",
       "\n",
       "    .dataframe tbody tr th {\n",
       "        vertical-align: top;\n",
       "    }\n",
       "\n",
       "    .dataframe thead th {\n",
       "        text-align: right;\n",
       "    }\n",
       "</style>\n",
       "<table border=\"1\" class=\"dataframe\">\n",
       "  <thead>\n",
       "    <tr style=\"text-align: right;\">\n",
       "      <th></th>\n",
       "      <th>budget</th>\n",
       "      <th>genres</th>\n",
       "      <th>id</th>\n",
       "      <th>keywords</th>\n",
       "      <th>original_language</th>\n",
       "      <th>original_title</th>\n",
       "      <th>overview</th>\n",
       "      <th>popularity</th>\n",
       "      <th>production_companies</th>\n",
       "      <th>production_countries</th>\n",
       "      <th>release_date</th>\n",
       "      <th>revenue</th>\n",
       "      <th>runtime</th>\n",
       "      <th>spoken_languages</th>\n",
       "      <th>status</th>\n",
       "      <th>title</th>\n",
       "      <th>vote_average</th>\n",
       "      <th>vote_count</th>\n",
       "    </tr>\n",
       "  </thead>\n",
       "  <tbody>\n",
       "    <tr>\n",
       "      <th>1359</th>\n",
       "      <td>35000000</td>\n",
       "      <td>[{\"id\": 14, \"name\": \"Fantasy\"}, {\"id\": 28, \"na...</td>\n",
       "      <td>268</td>\n",
       "      <td>[{\"id\": 848, \"name\": \"double life\"}, {\"id\": 84...</td>\n",
       "      <td>en</td>\n",
       "      <td>Batman</td>\n",
       "      <td>The Dark Knight of Gotham City begins his war ...</td>\n",
       "      <td>44.104469</td>\n",
       "      <td>[{\"name\": \"PolyGram Filmed Entertainment\", \"id...</td>\n",
       "      <td>[{\"iso_3166_1\": \"GB\", \"name\": \"United Kingdom\"...</td>\n",
       "      <td>1989-06-23</td>\n",
       "      <td>411348924</td>\n",
       "      <td>126.0</td>\n",
       "      <td>[{\"iso_639_1\": \"en\", \"name\": \"English\"}, {\"iso...</td>\n",
       "      <td>Released</td>\n",
       "      <td>Batman</td>\n",
       "      <td>7.0</td>\n",
       "      <td>2096</td>\n",
       "    </tr>\n",
       "    <tr>\n",
       "      <th>3647</th>\n",
       "      <td>0</td>\n",
       "      <td>[{\"id\": 18, \"name\": \"Drama\"}]</td>\n",
       "      <td>39269</td>\n",
       "      <td>[{\"id\": 4470, \"name\": \"punk\"}, {\"id\": 10183, \"...</td>\n",
       "      <td>en</td>\n",
       "      <td>Out Of The Blue</td>\n",
       "      <td>Dennis Hopper is a hard-drinking truck driver ...</td>\n",
       "      <td>0.679351</td>\n",
       "      <td>[{\"name\": \"Robson Street\", \"id\": 71953}]</td>\n",
       "      <td>[{\"iso_3166_1\": \"CA\", \"name\": \"Canada\"}]</td>\n",
       "      <td>1980-05-01</td>\n",
       "      <td>0</td>\n",
       "      <td>94.0</td>\n",
       "      <td>[{\"iso_639_1\": \"en\", \"name\": \"English\"}]</td>\n",
       "      <td>Released</td>\n",
       "      <td>Out Of The Blue</td>\n",
       "      <td>6.5</td>\n",
       "      <td>17</td>\n",
       "    </tr>\n",
       "    <tr>\n",
       "      <th>3693</th>\n",
       "      <td>0</td>\n",
       "      <td>[{\"id\": 18, \"name\": \"Drama\"}]</td>\n",
       "      <td>10844</td>\n",
       "      <td>[{\"id\": 2658, \"name\": \"new zealand\"}, {\"id\": 3...</td>\n",
       "      <td>en</td>\n",
       "      <td>Out Of The Blue</td>\n",
       "      <td>Ordinary people find extraordinary courage in ...</td>\n",
       "      <td>0.706355</td>\n",
       "      <td>[]</td>\n",
       "      <td>[{\"iso_3166_1\": \"NZ\", \"name\": \"New Zealand\"}]</td>\n",
       "      <td>2006-10-12</td>\n",
       "      <td>0</td>\n",
       "      <td>103.0</td>\n",
       "      <td>[{\"iso_639_1\": \"en\", \"name\": \"English\"}]</td>\n",
       "      <td>Released</td>\n",
       "      <td>Out Of The Blue</td>\n",
       "      <td>5.9</td>\n",
       "      <td>18</td>\n",
       "    </tr>\n",
       "    <tr>\n",
       "      <th>4267</th>\n",
       "      <td>1377800</td>\n",
       "      <td>[{\"id\": 10751, \"name\": \"Family\"}, {\"id\": 12, \"...</td>\n",
       "      <td>2661</td>\n",
       "      <td>[{\"id\": 339, \"name\": \"submarine\"}, {\"id\": 849,...</td>\n",
       "      <td>en</td>\n",
       "      <td>Batman</td>\n",
       "      <td>The Dynamic Duo faces four super-villains who ...</td>\n",
       "      <td>9.815394</td>\n",
       "      <td>[{\"name\": \"Twentieth Century Fox Film Corporat...</td>\n",
       "      <td>[{\"iso_3166_1\": \"US\", \"name\": \"United States o...</td>\n",
       "      <td>1966-07-30</td>\n",
       "      <td>0</td>\n",
       "      <td>105.0</td>\n",
       "      <td>[{\"iso_639_1\": \"en\", \"name\": \"English\"}]</td>\n",
       "      <td>Released</td>\n",
       "      <td>Batman</td>\n",
       "      <td>6.1</td>\n",
       "      <td>203</td>\n",
       "    </tr>\n",
       "  </tbody>\n",
       "</table>\n",
       "</div>"
      ],
      "text/plain": [
       "        budget                                             genres     id  \\\n",
       "1359  35000000  [{\"id\": 14, \"name\": \"Fantasy\"}, {\"id\": 28, \"na...    268   \n",
       "3647         0                      [{\"id\": 18, \"name\": \"Drama\"}]  39269   \n",
       "3693         0                      [{\"id\": 18, \"name\": \"Drama\"}]  10844   \n",
       "4267   1377800  [{\"id\": 10751, \"name\": \"Family\"}, {\"id\": 12, \"...   2661   \n",
       "\n",
       "                                               keywords original_language  \\\n",
       "1359  [{\"id\": 848, \"name\": \"double life\"}, {\"id\": 84...                en   \n",
       "3647  [{\"id\": 4470, \"name\": \"punk\"}, {\"id\": 10183, \"...                en   \n",
       "3693  [{\"id\": 2658, \"name\": \"new zealand\"}, {\"id\": 3...                en   \n",
       "4267  [{\"id\": 339, \"name\": \"submarine\"}, {\"id\": 849,...                en   \n",
       "\n",
       "       original_title                                           overview  \\\n",
       "1359           Batman  The Dark Knight of Gotham City begins his war ...   \n",
       "3647  Out Of The Blue  Dennis Hopper is a hard-drinking truck driver ...   \n",
       "3693  Out Of The Blue  Ordinary people find extraordinary courage in ...   \n",
       "4267           Batman  The Dynamic Duo faces four super-villains who ...   \n",
       "\n",
       "      popularity                               production_companies  \\\n",
       "1359   44.104469  [{\"name\": \"PolyGram Filmed Entertainment\", \"id...   \n",
       "3647    0.679351           [{\"name\": \"Robson Street\", \"id\": 71953}]   \n",
       "3693    0.706355                                                 []   \n",
       "4267    9.815394  [{\"name\": \"Twentieth Century Fox Film Corporat...   \n",
       "\n",
       "                                   production_countries release_date  \\\n",
       "1359  [{\"iso_3166_1\": \"GB\", \"name\": \"United Kingdom\"...   1989-06-23   \n",
       "3647           [{\"iso_3166_1\": \"CA\", \"name\": \"Canada\"}]   1980-05-01   \n",
       "3693      [{\"iso_3166_1\": \"NZ\", \"name\": \"New Zealand\"}]   2006-10-12   \n",
       "4267  [{\"iso_3166_1\": \"US\", \"name\": \"United States o...   1966-07-30   \n",
       "\n",
       "        revenue  runtime                                   spoken_languages  \\\n",
       "1359  411348924    126.0  [{\"iso_639_1\": \"en\", \"name\": \"English\"}, {\"iso...   \n",
       "3647          0     94.0           [{\"iso_639_1\": \"en\", \"name\": \"English\"}]   \n",
       "3693          0    103.0           [{\"iso_639_1\": \"en\", \"name\": \"English\"}]   \n",
       "4267          0    105.0           [{\"iso_639_1\": \"en\", \"name\": \"English\"}]   \n",
       "\n",
       "        status            title  vote_average  vote_count  \n",
       "1359  Released           Batman           7.0        2096  \n",
       "3647  Released  Out Of The Blue           6.5          17  \n",
       "3693  Released  Out Of The Blue           5.9          18  \n",
       "4267  Released           Batman           6.1         203  "
      ]
     },
     "execution_count": 50,
     "metadata": {},
     "output_type": "execute_result"
    }
   ],
   "source": [
    "df[df.duplicated(subset=['original_title'], keep=False)] # keep=False shows me all the rows where duplicates occur"
   ]
  },
  {
   "cell_type": "markdown",
   "id": "d1cfc3e2-8369-4b2b-b411-187e62edd4f7",
   "metadata": {},
   "source": [
    "#### Dealing with duplicates\n",
    "\n",
    "Due to the fact that the repeated names are are still different movies I will use the \"id\" column instead of either of the title columns when analysing the dataset."
   ]
  },
  {
   "cell_type": "markdown",
   "id": "f7a7abed-6529-4136-a983-297f05049678",
   "metadata": {
    "tags": []
   },
   "source": [
    "### Confusing entries\n",
    "\n",
    "When looking at the DataFrame with `df.head(5)` we can see that many columns are entered as string lists. In order to extract the relevant information from these columns we can see that we need the values under the key \"name\" for most and \"iso_639_1\" for the \"spoken_languages\" column due to the encoding of symbols used in the native language of some countries such as Korea. \n",
    "\n",
    "#### Dealing with the string lists"
   ]
  },
  {
   "cell_type": "code",
   "execution_count": 54,
   "id": "e2581ce1-6637-42f0-849b-877757fe1da6",
   "metadata": {
    "tags": []
   },
   "outputs": [],
   "source": [
    "import ast ## Library used to deal with the string lists"
   ]
  },
  {
   "cell_type": "markdown",
   "id": "c3188fcd-9c48-4350-905c-b795230a5575",
   "metadata": {},
   "source": [
    "To deal with the string lists we will use a function convert each string list to a list and loop through it adding the value under the 'name' to a new list that will be returned. An example is `[{\"id\": 18, \"name\": \"Drama\"}]` will be converted to `[\"Drama\"]`. In the case of the second function, it works just like the first but stores the value under 'iso_639_1'."
   ]
  },
  {
   "cell_type": "code",
   "execution_count": 57,
   "id": "2fa4180f-e22e-4b94-a645-15b0d5527038",
   "metadata": {
    "tags": []
   },
   "outputs": [],
   "source": [
    "def extract_value(x): \n",
    "    x = ast.literal_eval(x) ## Transform '['name', 'id']' back into ['name', 'id']\n",
    "    Genres = [] ## Empty list to store the genres\n",
    "    \n",
    "    for item in x: ## iterate for each dictionary in our list\n",
    "        Genres.append(item['name']) ## Grab the 'name' key for each dictionary\n",
    "        \n",
    "    return Genres # returns new list that only contains the values we are after"
   ]
  },
  {
   "cell_type": "code",
   "execution_count": 59,
   "id": "b8efd1dc-256d-4362-b7f3-0468d72b07db",
   "metadata": {
    "tags": []
   },
   "outputs": [],
   "source": [
    "def extract_value2(x): \n",
    "    x = ast.literal_eval(x) ## Transform '['name', 'id']' back into ['name', 'id']\n",
    "    Genres = [] ## Empty list to store the genres\n",
    "    \n",
    "    for item in x: ## iterate for each dictionary in our list\n",
    "        Genres.append(item['iso_639_1']) ## Grab the 'iso_639_1' key for each dictionary\n",
    "        \n",
    "    return Genres # returns new list that only contains the values we are after"
   ]
  },
  {
   "cell_type": "markdown",
   "id": "c74c06fc-a2d2-4312-b03a-361987cac647",
   "metadata": {},
   "source": [
    "#### Applying the function to all the columns where necessary"
   ]
  },
  {
   "cell_type": "code",
   "execution_count": 62,
   "id": "6fe25de8-b2b6-4ea3-9aee-57bb2ba9c0b2",
   "metadata": {
    "tags": []
   },
   "outputs": [],
   "source": [
    "df['extracted_genres'] = df['genres'].apply(extract_value) # Extracting the \"name\" values from \"genres\""
   ]
  },
  {
   "cell_type": "code",
   "execution_count": 63,
   "id": "136c63a5-5b7b-4e30-b3e4-03beaaca8f82",
   "metadata": {
    "tags": []
   },
   "outputs": [],
   "source": [
    "df['extracted_keywords'] = df['keywords'].apply(extract_value) # Extracting the \"name\" values from \"keywords\""
   ]
  },
  {
   "cell_type": "code",
   "execution_count": 65,
   "id": "4b193b5d-e9d3-4902-bd31-7971b04db9b9",
   "metadata": {
    "tags": []
   },
   "outputs": [],
   "source": [
    "df['extracted_production_companies'] = df['production_companies'].apply(extract_value) # Extracting the \"name\" values from \"production_companies\""
   ]
  },
  {
   "cell_type": "code",
   "execution_count": 66,
   "id": "51ea45ef-3d2a-40e2-bf81-d0bec979df53",
   "metadata": {
    "tags": []
   },
   "outputs": [],
   "source": [
    "df['extracted_production_countries'] = df['production_countries'].apply(extract_value) # Extracting the \"name\" values from \"production_countries\""
   ]
  },
  {
   "cell_type": "code",
   "execution_count": 68,
   "id": "24aa87d3-ef8c-43ad-b847-f8cc92ace827",
   "metadata": {
    "tags": []
   },
   "outputs": [],
   "source": [
    "df['extracted_spoken_languages'] = df['spoken_languages'].apply(extract_value2) # Extracting the \"iso_639_1\" values from \"spoken_languages\""
   ]
  },
  {
   "cell_type": "markdown",
   "id": "e026138d-82de-4c4e-a1a1-4fb0196675ab",
   "metadata": {
    "tags": []
   },
   "source": [
    "#### Removing the old columns\n",
    "\n",
    "Now that we have extracted the key information we can drop the columns containing the string lists."
   ]
  },
  {
   "cell_type": "code",
   "execution_count": 72,
   "id": "73afc341-81fc-48fb-80f5-9b3dbaa89bfa",
   "metadata": {
    "tags": []
   },
   "outputs": [],
   "source": [
    "df.drop(columns = ['genres', 'keywords', 'production_companies', 'production_countries', 'spoken_languages'], inplace = True) # Dropping the columns"
   ]
  },
  {
   "cell_type": "code",
   "execution_count": 73,
   "id": "b2c7c899-14a9-41e4-b2bc-12af1fab56fa",
   "metadata": {
    "tags": []
   },
   "outputs": [
    {
     "data": {
      "text/html": [
       "<div>\n",
       "<style scoped>\n",
       "    .dataframe tbody tr th:only-of-type {\n",
       "        vertical-align: middle;\n",
       "    }\n",
       "\n",
       "    .dataframe tbody tr th {\n",
       "        vertical-align: top;\n",
       "    }\n",
       "\n",
       "    .dataframe thead th {\n",
       "        text-align: right;\n",
       "    }\n",
       "</style>\n",
       "<table border=\"1\" class=\"dataframe\">\n",
       "  <thead>\n",
       "    <tr style=\"text-align: right;\">\n",
       "      <th></th>\n",
       "      <th>budget</th>\n",
       "      <th>id</th>\n",
       "      <th>original_language</th>\n",
       "      <th>original_title</th>\n",
       "      <th>overview</th>\n",
       "      <th>popularity</th>\n",
       "      <th>release_date</th>\n",
       "      <th>revenue</th>\n",
       "      <th>runtime</th>\n",
       "      <th>status</th>\n",
       "      <th>title</th>\n",
       "      <th>vote_average</th>\n",
       "      <th>vote_count</th>\n",
       "      <th>extracted_genres</th>\n",
       "      <th>extracted_keywords</th>\n",
       "      <th>extracted_production_companies</th>\n",
       "      <th>extracted_production_countries</th>\n",
       "      <th>extracted_spoken_languages</th>\n",
       "    </tr>\n",
       "  </thead>\n",
       "  <tbody>\n",
       "    <tr>\n",
       "      <th>0</th>\n",
       "      <td>237000000</td>\n",
       "      <td>19995</td>\n",
       "      <td>en</td>\n",
       "      <td>Avatar</td>\n",
       "      <td>In the 22nd century, a paraplegic Marine is di...</td>\n",
       "      <td>150.437577</td>\n",
       "      <td>2009-12-10</td>\n",
       "      <td>2787965087</td>\n",
       "      <td>162.0</td>\n",
       "      <td>Released</td>\n",
       "      <td>Avatar</td>\n",
       "      <td>7.2</td>\n",
       "      <td>11800</td>\n",
       "      <td>[Action, Adventure, Fantasy, Science Fiction]</td>\n",
       "      <td>[culture clash, future, space war, space colon...</td>\n",
       "      <td>[Ingenious Film Partners, Twentieth Century Fo...</td>\n",
       "      <td>[United States of America, United Kingdom]</td>\n",
       "      <td>[en, es]</td>\n",
       "    </tr>\n",
       "    <tr>\n",
       "      <th>1</th>\n",
       "      <td>300000000</td>\n",
       "      <td>285</td>\n",
       "      <td>en</td>\n",
       "      <td>Pirates Of The Caribbean: At World'S End</td>\n",
       "      <td>Captain Barbossa, long believed to be dead, ha...</td>\n",
       "      <td>139.082615</td>\n",
       "      <td>2007-05-19</td>\n",
       "      <td>961000000</td>\n",
       "      <td>169.0</td>\n",
       "      <td>Released</td>\n",
       "      <td>Pirates Of The Caribbean: At World'S End</td>\n",
       "      <td>6.9</td>\n",
       "      <td>4500</td>\n",
       "      <td>[Adventure, Fantasy, Action]</td>\n",
       "      <td>[ocean, drug abuse, exotic island, east india ...</td>\n",
       "      <td>[Walt Disney Pictures, Jerry Bruckheimer Films...</td>\n",
       "      <td>[United States of America]</td>\n",
       "      <td>[en]</td>\n",
       "    </tr>\n",
       "    <tr>\n",
       "      <th>2</th>\n",
       "      <td>245000000</td>\n",
       "      <td>206647</td>\n",
       "      <td>en</td>\n",
       "      <td>Spectre</td>\n",
       "      <td>A cryptic message from Bond’s past sends him o...</td>\n",
       "      <td>107.376788</td>\n",
       "      <td>2015-10-26</td>\n",
       "      <td>880674609</td>\n",
       "      <td>148.0</td>\n",
       "      <td>Released</td>\n",
       "      <td>Spectre</td>\n",
       "      <td>6.3</td>\n",
       "      <td>4466</td>\n",
       "      <td>[Action, Adventure, Crime]</td>\n",
       "      <td>[spy, based on novel, secret agent, sequel, mi...</td>\n",
       "      <td>[Columbia Pictures, Danjaq, B24]</td>\n",
       "      <td>[United Kingdom, United States of America]</td>\n",
       "      <td>[fr, en, es, it, de]</td>\n",
       "    </tr>\n",
       "    <tr>\n",
       "      <th>3</th>\n",
       "      <td>250000000</td>\n",
       "      <td>49026</td>\n",
       "      <td>en</td>\n",
       "      <td>The Dark Knight Rises</td>\n",
       "      <td>Following the death of District Attorney Harve...</td>\n",
       "      <td>112.312950</td>\n",
       "      <td>2012-07-16</td>\n",
       "      <td>1084939099</td>\n",
       "      <td>165.0</td>\n",
       "      <td>Released</td>\n",
       "      <td>The Dark Knight Rises</td>\n",
       "      <td>7.6</td>\n",
       "      <td>9106</td>\n",
       "      <td>[Action, Crime, Drama, Thriller]</td>\n",
       "      <td>[dc comics, crime fighter, terrorist, secret i...</td>\n",
       "      <td>[Legendary Pictures, Warner Bros., DC Entertai...</td>\n",
       "      <td>[United States of America]</td>\n",
       "      <td>[en]</td>\n",
       "    </tr>\n",
       "    <tr>\n",
       "      <th>4</th>\n",
       "      <td>260000000</td>\n",
       "      <td>49529</td>\n",
       "      <td>en</td>\n",
       "      <td>John Carter</td>\n",
       "      <td>John Carter is a war-weary, former military ca...</td>\n",
       "      <td>43.926995</td>\n",
       "      <td>2012-03-07</td>\n",
       "      <td>284139100</td>\n",
       "      <td>132.0</td>\n",
       "      <td>Released</td>\n",
       "      <td>John Carter</td>\n",
       "      <td>6.1</td>\n",
       "      <td>2124</td>\n",
       "      <td>[Action, Adventure, Science Fiction]</td>\n",
       "      <td>[based on novel, mars, medallion, space travel...</td>\n",
       "      <td>[Walt Disney Pictures]</td>\n",
       "      <td>[United States of America]</td>\n",
       "      <td>[en]</td>\n",
       "    </tr>\n",
       "  </tbody>\n",
       "</table>\n",
       "</div>"
      ],
      "text/plain": [
       "      budget      id original_language  \\\n",
       "0  237000000   19995                en   \n",
       "1  300000000     285                en   \n",
       "2  245000000  206647                en   \n",
       "3  250000000   49026                en   \n",
       "4  260000000   49529                en   \n",
       "\n",
       "                             original_title  \\\n",
       "0                                    Avatar   \n",
       "1  Pirates Of The Caribbean: At World'S End   \n",
       "2                                   Spectre   \n",
       "3                     The Dark Knight Rises   \n",
       "4                               John Carter   \n",
       "\n",
       "                                            overview  popularity release_date  \\\n",
       "0  In the 22nd century, a paraplegic Marine is di...  150.437577   2009-12-10   \n",
       "1  Captain Barbossa, long believed to be dead, ha...  139.082615   2007-05-19   \n",
       "2  A cryptic message from Bond’s past sends him o...  107.376788   2015-10-26   \n",
       "3  Following the death of District Attorney Harve...  112.312950   2012-07-16   \n",
       "4  John Carter is a war-weary, former military ca...   43.926995   2012-03-07   \n",
       "\n",
       "      revenue  runtime    status                                     title  \\\n",
       "0  2787965087    162.0  Released                                    Avatar   \n",
       "1   961000000    169.0  Released  Pirates Of The Caribbean: At World'S End   \n",
       "2   880674609    148.0  Released                                   Spectre   \n",
       "3  1084939099    165.0  Released                     The Dark Knight Rises   \n",
       "4   284139100    132.0  Released                               John Carter   \n",
       "\n",
       "   vote_average  vote_count                               extracted_genres  \\\n",
       "0           7.2       11800  [Action, Adventure, Fantasy, Science Fiction]   \n",
       "1           6.9        4500                   [Adventure, Fantasy, Action]   \n",
       "2           6.3        4466                     [Action, Adventure, Crime]   \n",
       "3           7.6        9106               [Action, Crime, Drama, Thriller]   \n",
       "4           6.1        2124           [Action, Adventure, Science Fiction]   \n",
       "\n",
       "                                  extracted_keywords  \\\n",
       "0  [culture clash, future, space war, space colon...   \n",
       "1  [ocean, drug abuse, exotic island, east india ...   \n",
       "2  [spy, based on novel, secret agent, sequel, mi...   \n",
       "3  [dc comics, crime fighter, terrorist, secret i...   \n",
       "4  [based on novel, mars, medallion, space travel...   \n",
       "\n",
       "                      extracted_production_companies  \\\n",
       "0  [Ingenious Film Partners, Twentieth Century Fo...   \n",
       "1  [Walt Disney Pictures, Jerry Bruckheimer Films...   \n",
       "2                   [Columbia Pictures, Danjaq, B24]   \n",
       "3  [Legendary Pictures, Warner Bros., DC Entertai...   \n",
       "4                             [Walt Disney Pictures]   \n",
       "\n",
       "               extracted_production_countries extracted_spoken_languages  \n",
       "0  [United States of America, United Kingdom]                   [en, es]  \n",
       "1                  [United States of America]                       [en]  \n",
       "2  [United Kingdom, United States of America]       [fr, en, es, it, de]  \n",
       "3                  [United States of America]                       [en]  \n",
       "4                  [United States of America]                       [en]  "
      ]
     },
     "execution_count": 73,
     "metadata": {},
     "output_type": "execute_result"
    }
   ],
   "source": [
    "df.head() # Check to see that the correct columns we dropped"
   ]
  },
  {
   "cell_type": "markdown",
   "id": "c67271a3-2e27-4139-9a71-15a07c60e6cc",
   "metadata": {
    "tags": []
   },
   "source": [
    "## Analysis\n",
    "\n",
    "In this section I will consider the relationships between 'vote_average', 'revenue' and 'budget' to investigate which factors are most valuable in making a high grossing and/or profitable movie."
   ]
  },
  {
   "cell_type": "markdown",
   "id": "8750f100-9dc7-408d-8df2-7fabc8f1d646",
   "metadata": {
    "tags": []
   },
   "source": [
    "### Exploring effects of vote_average on the average film revenue"
   ]
  },
  {
   "cell_type": "code",
   "execution_count": 79,
   "id": "20f314ce-b283-4ffc-89f6-2b27b86e3fd8",
   "metadata": {
    "tags": []
   },
   "outputs": [],
   "source": [
    "## Creating a DataFrame with each of the vote averages (0.1, 0.2, ... 9.9, 10.0) and the corresponding average revenue\n",
    "vote_group = df.groupby(['vote_average'])[['revenue']].mean().copy()"
   ]
  },
  {
   "cell_type": "code",
   "execution_count": 145,
   "id": "a6a7239e-f525-40e2-a44a-9eb1100348e6",
   "metadata": {
    "tags": []
   },
   "outputs": [
    {
     "name": "stderr",
     "output_type": "stream",
     "text": [
      "C:\\Users\\taich\\anaconda3\\Lib\\site-packages\\seaborn\\_oldcore.py:1119: FutureWarning: use_inf_as_na option is deprecated and will be removed in a future version. Convert inf values to NaN before operating instead.\n",
      "  with pd.option_context('mode.use_inf_as_na', True):\n",
      "C:\\Users\\taich\\anaconda3\\Lib\\site-packages\\seaborn\\_oldcore.py:1119: FutureWarning: use_inf_as_na option is deprecated and will be removed in a future version. Convert inf values to NaN before operating instead.\n",
      "  with pd.option_context('mode.use_inf_as_na', True):\n"
     ]
    },
    {
     "data": {
      "image/png": "[encoded data removed]",
      "text/plain": [
       "<Figure size 640x480 with 1 Axes>"
      ]
     },
     "metadata": {},
     "output_type": "display_data"
    }
   ],
   "source": [
    "## Create line plot of average vote against average revenue\n",
    "vote_rev = sns.lineplot(x = 'vote_average',\n",
    "                        y = 'revenue',\n",
    "                        data = vote_group)\n",
    "\n",
    "## Add axes labels and title\n",
    "plt.title('How average rating changes with an increase in the average vote (0 budget films included)')\n",
    "plt.ylabel('Average revenue (*10^8)')\n",
    "plt.xlabel('Vote average')\n",
    "\n",
    "## Plot a vertical line on vote average = 8.4\n",
    "plt.axvline(x=8.4, color = 'red', linestyle = '--')\n",
    "\n",
    "plt.show()"
   ]
  },
  {
   "cell_type": "markdown",
   "id": "a6ba4434-cf30-4c50-8efd-3159fd177f37",
   "metadata": {},
   "source": [
    "Here we can see the actual values that can be seen on the graph:"
   ]
  },
  {
   "cell_type": "code",
   "execution_count": 155,
   "id": "685d32f8-ffb1-426c-ba84-9110e14a4104",
   "metadata": {
    "tags": []
   },
   "outputs": [
    {
     "data": {
      "text/html": [
       "<div>\n",
       "<style scoped>\n",
       "    .dataframe tbody tr th:only-of-type {\n",
       "        vertical-align: middle;\n",
       "    }\n",
       "\n",
       "    .dataframe tbody tr th {\n",
       "        vertical-align: top;\n",
       "    }\n",
       "\n",
       "    .dataframe thead th {\n",
       "        text-align: right;\n",
       "    }\n",
       "</style>\n",
       "<table border=\"1\" class=\"dataframe\">\n",
       "  <thead>\n",
       "    <tr style=\"text-align: right;\">\n",
       "      <th></th>\n",
       "      <th>revenue</th>\n",
       "    </tr>\n",
       "    <tr>\n",
       "      <th>vote_average</th>\n",
       "      <th></th>\n",
       "    </tr>\n",
       "  </thead>\n",
       "  <tbody>\n",
       "    <tr>\n",
       "      <th>8.2</th>\n",
       "      <td>2.077749e+08</td>\n",
       "    </tr>\n",
       "    <tr>\n",
       "      <th>8.3</th>\n",
       "      <td>1.388154e+08</td>\n",
       "    </tr>\n",
       "    <tr>\n",
       "      <th>8.4</th>\n",
       "      <td>1.225332e+08</td>\n",
       "    </tr>\n",
       "    <tr>\n",
       "      <th>8.5</th>\n",
       "      <td>1.423249e+07</td>\n",
       "    </tr>\n",
       "    <tr>\n",
       "      <th>9.3</th>\n",
       "      <td>0.000000e+00</td>\n",
       "    </tr>\n",
       "    <tr>\n",
       "      <th>9.5</th>\n",
       "      <td>0.000000e+00</td>\n",
       "    </tr>\n",
       "    <tr>\n",
       "      <th>10.0</th>\n",
       "      <td>1.413980e+05</td>\n",
       "    </tr>\n",
       "  </tbody>\n",
       "</table>\n",
       "</div>"
      ],
      "text/plain": [
       "                   revenue\n",
       "vote_average              \n",
       "8.2           2.077749e+08\n",
       "8.3           1.388154e+08\n",
       "8.4           1.225332e+08\n",
       "8.5           1.423249e+07\n",
       "9.3           0.000000e+00\n",
       "9.5           0.000000e+00\n",
       "10.0          1.413980e+05"
      ]
     },
     "execution_count": 155,
     "metadata": {},
     "output_type": "execute_result"
    }
   ],
   "source": [
    "vote_group.tail(7) ## The last 7 average ratings"
   ]
  },
  {
   "cell_type": "markdown",
   "id": "933224ee-5ae5-41cf-8403-bb164c26bcb1",
   "metadata": {},
   "source": [
    "#### Why the sudden drop?\n",
    "\n",
    "When the vote average becomes grater than 8.4 we see a sudden drop off in average revenue. Lets compare what is going on when vote average is greater than 8.4 and less than or equal to 8.4."
   ]
  },
  {
   "cell_type": "code",
   "execution_count": 153,
   "id": "cb63d619-a292-4d93-b759-24c4acbdceeb",
   "metadata": {
    "tags": []
   },
   "outputs": [
    {
     "data": {
      "text/plain": [
       "8"
      ]
     },
     "execution_count": 153,
     "metadata": {},
     "output_type": "execute_result"
    }
   ],
   "source": [
    "len(df[df.vote_average > 8.4]) # How many films have a vote average > 8.4"
   ]
  },
  {
   "cell_type": "code",
   "execution_count": 87,
   "id": "8b8af3ca-4831-477b-948e-8ba3178e63d8",
   "metadata": {
    "tags": []
   },
   "outputs": [
    {
     "data": {
      "text/plain": [
       "'0.16670139612419255% of films have an average vote higher than 8.4.'"
      ]
     },
     "execution_count": 87,
     "metadata": {},
     "output_type": "execute_result"
    }
   ],
   "source": [
    "num_rows1 = len(df) ## total number of films\n",
    "num_rows2 = len(df[df.vote_average > 8.4]) # number of films above 8.4 average vote\n",
    "percent_films = f'{(num_rows2/num_rows1)*100}% of films have an average vote higher than 8.4.'\n",
    "\n",
    "percent_films"
   ]
  },
  {
   "cell_type": "code",
   "execution_count": 89,
   "id": "d6d7ea35-42f7-40bb-84d4-e128b484bdf8",
   "metadata": {
    "tags": []
   },
   "outputs": [
    {
     "data": {
      "text/plain": [
       "5"
      ]
     },
     "execution_count": 89,
     "metadata": {},
     "output_type": "execute_result"
    }
   ],
   "source": [
    "len(df[(df.vote_average > 8.4) & (df.budget == 0)]) ## No budget films with higher rating than 8.5"
   ]
  },
  {
   "cell_type": "markdown",
   "id": "a7b07c95-99f8-4920-9585-310bcf97d82a",
   "metadata": {},
   "source": [
    "As seen above just <b>8</b> movies have a rating of 8.5 or higher. This means that the revenue of each movie individually has a large impact on the average revenue, 5 of which have a budget of zero. It is clear to see that the results are heavily affected by niche films that have excelled in ratings from a concentrated audience but not been as successful commercially.\n",
    "\n",
    "#### What is the takeaway?\n",
    "\n",
    "It is clear to see that with the exception of movies rated 8.5 and higher, the higher the average vote a movie receives, the higher the revenue it generates.\n",
    "\n",
    "<hr/>"
   ]
  },
  {
   "cell_type": "markdown",
   "id": "2adbf945-451e-4015-b3c4-2a318f234237",
   "metadata": {
    "tags": []
   },
   "source": [
    "### What impact does budget have on the revenue of a movie?\n",
    "\n",
    "We have seen how the change in budget has affected the findings from above so lets explore the relation between budget and revenue."
   ]
  },
  {
   "cell_type": "code",
   "execution_count": 93,
   "id": "bce89830-8e5e-484e-8c31-f84798118be0",
   "metadata": {
    "tags": []
   },
   "outputs": [],
   "source": [
    "## Creating the budget bins for a bar plot\n",
    "df['budget_bins'] = pd.cut(df['budget'], bins=20)"
   ]
  },
  {
   "cell_type": "code",
   "execution_count": 95,
   "id": "5ade83fe-50e9-4c42-950d-0d45be2c0e8c",
   "metadata": {
    "tags": []
   },
   "outputs": [
    {
     "name": "stderr",
     "output_type": "stream",
     "text": [
      "C:\\Users\\taich\\anaconda3\\Lib\\site-packages\\seaborn\\categorical.py:641: FutureWarning: The default of observed=False is deprecated and will be changed to True in a future version of pandas. Pass observed=False to retain current behavior or observed=True to adopt the future default and silence this warning.\n",
      "  grouped_vals = vals.groupby(grouper)\n"
     ]
    },
    {
     "data": {
      "image/png": "[encoded data removed]",
      "text/plain": [
       "<Figure size 640x480 with 1 Axes>"
      ]
     },
     "metadata": {},
     "output_type": "display_data"
    }
   ],
   "source": [
    "## Making the bar plot of average revenue against \n",
    "budget_plot = sns.barplot(x = 'budget_bins',\n",
    "            y = 'revenue',\n",
    "            data = df)\n",
    "\n",
    "## Setting the title, ticks on the x axis and labelling the y axis\n",
    "plt.title('Change in average revenue as budget increases')\n",
    "plt.xticks(rotation = 45, ha='right')\n",
    "plt.ylabel('Average revenue (*10^9)')\n",
    "\n",
    "plt.show()"
   ]
  },
  {
   "cell_type": "markdown",
   "id": "ef918262-7025-43f1-9352-4f74613b19a7",
   "metadata": {},
   "source": [
    "By looking at the plot the we can see there is a pattern that when the budget of a film increases, on average, the revenue generated by those films increases also.\n",
    "\n",
    "#### We have an outlier\n",
    "\n",
    "But what causes the outlier in the bin (228000000.0, 247000000.0]?"
   ]
  },
  {
   "cell_type": "markdown",
   "id": "d3fbd49f-d77f-480a-97dc-95d0fe6e42cc",
   "metadata": {},
   "source": [
    "Lets see what movies are inside this interval."
   ]
  },
  {
   "cell_type": "code",
   "execution_count": 98,
   "id": "4ed4de58-61bf-4044-be53-6c90ef0ef3d5",
   "metadata": {
    "tags": []
   },
   "outputs": [
    {
     "data": {
      "text/html": [
       "<div>\n",
       "<style scoped>\n",
       "    .dataframe tbody tr th:only-of-type {\n",
       "        vertical-align: middle;\n",
       "    }\n",
       "\n",
       "    .dataframe tbody tr th {\n",
       "        vertical-align: top;\n",
       "    }\n",
       "\n",
       "    .dataframe thead th {\n",
       "        text-align: right;\n",
       "    }\n",
       "</style>\n",
       "<table border=\"1\" class=\"dataframe\">\n",
       "  <thead>\n",
       "    <tr style=\"text-align: right;\">\n",
       "      <th></th>\n",
       "      <th>budget</th>\n",
       "      <th>id</th>\n",
       "      <th>original_language</th>\n",
       "      <th>original_title</th>\n",
       "      <th>overview</th>\n",
       "      <th>popularity</th>\n",
       "      <th>release_date</th>\n",
       "      <th>revenue</th>\n",
       "      <th>runtime</th>\n",
       "      <th>status</th>\n",
       "      <th>title</th>\n",
       "      <th>vote_average</th>\n",
       "      <th>vote_count</th>\n",
       "      <th>extracted_genres</th>\n",
       "      <th>extracted_keywords</th>\n",
       "      <th>extracted_production_companies</th>\n",
       "      <th>extracted_production_countries</th>\n",
       "      <th>extracted_spoken_languages</th>\n",
       "      <th>budget_bins</th>\n",
       "    </tr>\n",
       "  </thead>\n",
       "  <tbody>\n",
       "    <tr>\n",
       "      <th>0</th>\n",
       "      <td>237000000</td>\n",
       "      <td>19995</td>\n",
       "      <td>en</td>\n",
       "      <td>Avatar</td>\n",
       "      <td>In the 22nd century, a paraplegic Marine is di...</td>\n",
       "      <td>150.437577</td>\n",
       "      <td>2009-12-10</td>\n",
       "      <td>2787965087</td>\n",
       "      <td>162.0</td>\n",
       "      <td>Released</td>\n",
       "      <td>Avatar</td>\n",
       "      <td>7.2</td>\n",
       "      <td>11800</td>\n",
       "      <td>[Action, Adventure, Fantasy, Science Fiction]</td>\n",
       "      <td>[culture clash, future, space war, space colon...</td>\n",
       "      <td>[Ingenious Film Partners, Twentieth Century Fo...</td>\n",
       "      <td>[United States of America, United Kingdom]</td>\n",
       "      <td>[en, es]</td>\n",
       "      <td>(228000000.0, 247000000.0]</td>\n",
       "    </tr>\n",
       "    <tr>\n",
       "      <th>2</th>\n",
       "      <td>245000000</td>\n",
       "      <td>206647</td>\n",
       "      <td>en</td>\n",
       "      <td>Spectre</td>\n",
       "      <td>A cryptic message from Bond’s past sends him o...</td>\n",
       "      <td>107.376788</td>\n",
       "      <td>2015-10-26</td>\n",
       "      <td>880674609</td>\n",
       "      <td>148.0</td>\n",
       "      <td>Released</td>\n",
       "      <td>Spectre</td>\n",
       "      <td>6.3</td>\n",
       "      <td>4466</td>\n",
       "      <td>[Action, Adventure, Crime]</td>\n",
       "      <td>[spy, based on novel, secret agent, sequel, mi...</td>\n",
       "      <td>[Columbia Pictures, Danjaq, B24]</td>\n",
       "      <td>[United Kingdom, United States of America]</td>\n",
       "      <td>[fr, en, es, it, de]</td>\n",
       "      <td>(228000000.0, 247000000.0]</td>\n",
       "    </tr>\n",
       "  </tbody>\n",
       "</table>\n",
       "</div>"
      ],
      "text/plain": [
       "      budget      id original_language original_title  \\\n",
       "0  237000000   19995                en         Avatar   \n",
       "2  245000000  206647                en        Spectre   \n",
       "\n",
       "                                            overview  popularity release_date  \\\n",
       "0  In the 22nd century, a paraplegic Marine is di...  150.437577   2009-12-10   \n",
       "2  A cryptic message from Bond’s past sends him o...  107.376788   2015-10-26   \n",
       "\n",
       "      revenue  runtime    status    title  vote_average  vote_count  \\\n",
       "0  2787965087    162.0  Released   Avatar           7.2       11800   \n",
       "2   880674609    148.0  Released  Spectre           6.3        4466   \n",
       "\n",
       "                                extracted_genres  \\\n",
       "0  [Action, Adventure, Fantasy, Science Fiction]   \n",
       "2                     [Action, Adventure, Crime]   \n",
       "\n",
       "                                  extracted_keywords  \\\n",
       "0  [culture clash, future, space war, space colon...   \n",
       "2  [spy, based on novel, secret agent, sequel, mi...   \n",
       "\n",
       "                      extracted_production_companies  \\\n",
       "0  [Ingenious Film Partners, Twentieth Century Fo...   \n",
       "2                   [Columbia Pictures, Danjaq, B24]   \n",
       "\n",
       "               extracted_production_countries extracted_spoken_languages  \\\n",
       "0  [United States of America, United Kingdom]                   [en, es]   \n",
       "2  [United Kingdom, United States of America]       [fr, en, es, it, de]   \n",
       "\n",
       "                  budget_bins  \n",
       "0  (228000000.0, 247000000.0]  \n",
       "2  (228000000.0, 247000000.0]  "
      ]
     },
     "execution_count": 98,
     "metadata": {},
     "output_type": "execute_result"
    }
   ],
   "source": [
    "df[(df.budget > 228000000.0) & (df.budget <= 247000000.0)] # Returning movies with a budget inside the stated interval."
   ]
  },
  {
   "cell_type": "markdown",
   "id": "8768c3a8-810a-4d28-8250-e021c9f72c82",
   "metadata": {},
   "source": [
    "Given that there are only 2 movies in this budget range we can see clearly how the bar is affected by each with the 95% confidence interval min/max being the revenue of Spectre/Avatar respectively. The revenue for Spectre follows the general relation between average revenue and budget much closer than Avatar which we can clearly see is an outlier.\n",
    "\n",
    "#### What is the takeaway?\n",
    "\n",
    "It is clear to see that with the exception of Avatar, the average revenue generated directly correlates to the budget.\n",
    "\n",
    "<hr/>"
   ]
  },
  {
   "cell_type": "markdown",
   "id": "764f4840-b922-4e42-9d8f-326703620134",
   "metadata": {
    "tags": []
   },
   "source": [
    "### What if we link this back to vote_average\n",
    "\n",
    "#### Important note!\n",
    "\n",
    "In order to both remove infinite values and niche movies with 0 budget which we have seen can skew the ratings, I will only consider movies that have a budget greater than 0."
   ]
  },
  {
   "cell_type": "code",
   "execution_count": 103,
   "id": "1fe329f5-89aa-46c2-8155-2c44b2d75994",
   "metadata": {
    "tags": []
   },
   "outputs": [],
   "source": [
    "## Creating the DataFrame\n",
    "no_zero = df[df.budget > 0][['title', 'id', 'vote_average', 'revenue', 'budget']].copy()"
   ]
  },
  {
   "cell_type": "markdown",
   "id": "4b5ff114-d39d-4179-8370-b2d6ce3c3a85",
   "metadata": {},
   "source": [
    "To see the relation of revenue, budget and vote_average I will find how increasing the vote_average of a movie affects the ROI. This will tell us if there is a relationship between how profitable each movie is."
   ]
  },
  {
   "cell_type": "code",
   "execution_count": 106,
   "id": "b584ec7d-d996-4cb5-bd6e-9570484242e7",
   "metadata": {
    "tags": []
   },
   "outputs": [],
   "source": [
    "no_zero['roi'] = (no_zero.revenue-no_zero.budget)/no_zero.budget ## Calculation for ROI"
   ]
  },
  {
   "cell_type": "markdown",
   "id": "8ef0ca7a-5abe-4ca9-8e1d-b8d3755dda88",
   "metadata": {
    "tags": []
   },
   "source": [
    "#### How does the return on investment change with an increase in voting average?\n",
    "\n",
    "Since we are considering the effects on profitibality lets see how return on investment correlates with vote average."
   ]
  },
  {
   "cell_type": "code",
   "execution_count": 109,
   "id": "52dfadb0-80a5-40e9-b9f5-f46b1e013931",
   "metadata": {
    "tags": []
   },
   "outputs": [],
   "source": [
    "vote_group2 = no_zero.groupby(['vote_average'])[['roi']].mean().copy() ## Taking the average ROI for each rating."
   ]
  },
  {
   "cell_type": "code",
   "execution_count": 111,
   "id": "aaeb6511-0e5d-4fc6-8a37-f701ba24ce0e",
   "metadata": {
    "tags": []
   },
   "outputs": [
    {
     "name": "stderr",
     "output_type": "stream",
     "text": [
      "C:\\Users\\taich\\anaconda3\\Lib\\site-packages\\seaborn\\_oldcore.py:1119: FutureWarning: use_inf_as_na option is deprecated and will be removed in a future version. Convert inf values to NaN before operating instead.\n",
      "  with pd.option_context('mode.use_inf_as_na', True):\n",
      "C:\\Users\\taich\\anaconda3\\Lib\\site-packages\\seaborn\\_oldcore.py:1119: FutureWarning: use_inf_as_na option is deprecated and will be removed in a future version. Convert inf values to NaN before operating instead.\n",
      "  with pd.option_context('mode.use_inf_as_na', True):\n"
     ]
    },
    {
     "data": {
      "image/png": "[encoded data removed]",
      "text/plain": [
       "<Figure size 640x480 with 1 Axes>"
      ]
     },
     "metadata": {},
     "output_type": "display_data"
    }
   ],
   "source": [
    "# Line plot of measuring ROI against vote average\n",
    "vote_rev = sns.lineplot(x = 'vote_average',\n",
    "                        y = 'roi',\n",
    "                        data = vote_group2)\n",
    "\n",
    "# Adding axis label and title\n",
    "plt.ylabel('ROI')\n",
    "plt.title('How change in Average Vote affects ROI')\n",
    "\n",
    "# Adding vertical lines on the outliers at 8.1 and 4.9 vote average\n",
    "plt.axvline(x=8.1, color = 'red', linestyle = '--')\n",
    "plt.axvline(x=4.9, color = 'red', linestyle = '--')\n",
    "\n",
    "plt.show()"
   ]
  },
  {
   "cell_type": "markdown",
   "id": "9f9cba7e-1936-450e-a2d5-2add505991af",
   "metadata": {
    "tags": []
   },
   "source": [
    "#### What does this tell us?\n",
    "\n",
    "Though this plot may not tell us much about the return on investment, what it does show is that we have 2 very clear outliers when vote_average 4.9 and 8.1.\n",
    "\n",
    "##### What's causing this?\n",
    "\n",
    "To start lets look at what is happening in these vote averages."
   ]
  },
  {
   "cell_type": "code",
   "execution_count": 114,
   "id": "514cec82-e63f-48ad-a854-f882b1a386e9",
   "metadata": {
    "tags": []
   },
   "outputs": [
    {
     "data": {
      "text/html": [
       "<div>\n",
       "<style scoped>\n",
       "    .dataframe tbody tr th:only-of-type {\n",
       "        vertical-align: middle;\n",
       "    }\n",
       "\n",
       "    .dataframe tbody tr th {\n",
       "        vertical-align: top;\n",
       "    }\n",
       "\n",
       "    .dataframe thead th {\n",
       "        text-align: right;\n",
       "    }\n",
       "</style>\n",
       "<table border=\"1\" class=\"dataframe\">\n",
       "  <thead>\n",
       "    <tr style=\"text-align: right;\">\n",
       "      <th></th>\n",
       "      <th>title</th>\n",
       "      <th>id</th>\n",
       "      <th>vote_average</th>\n",
       "      <th>revenue</th>\n",
       "      <th>budget</th>\n",
       "      <th>roi</th>\n",
       "    </tr>\n",
       "  </thead>\n",
       "  <tbody>\n",
       "    <tr>\n",
       "      <th>4238</th>\n",
       "      <td>Modern Times</td>\n",
       "      <td>3082</td>\n",
       "      <td>8.1</td>\n",
       "      <td>8500000</td>\n",
       "      <td>1</td>\n",
       "      <td>8.499999e+06</td>\n",
       "    </tr>\n",
       "    <tr>\n",
       "      <th>3137</th>\n",
       "      <td>Nurse 3-D</td>\n",
       "      <td>78383</td>\n",
       "      <td>4.9</td>\n",
       "      <td>10000000</td>\n",
       "      <td>10</td>\n",
       "      <td>9.999990e+05</td>\n",
       "    </tr>\n",
       "    <tr>\n",
       "      <th>4723</th>\n",
       "      <td>The Gallows</td>\n",
       "      <td>299245</td>\n",
       "      <td>4.9</td>\n",
       "      <td>42664410</td>\n",
       "      <td>100000</td>\n",
       "      <td>4.256441e+02</td>\n",
       "    </tr>\n",
       "    <tr>\n",
       "      <th>2912</th>\n",
       "      <td>Star Wars</td>\n",
       "      <td>11</td>\n",
       "      <td>8.1</td>\n",
       "      <td>775398007</td>\n",
       "      <td>11000000</td>\n",
       "      <td>6.949073e+01</td>\n",
       "    </tr>\n",
       "    <tr>\n",
       "      <th>3560</th>\n",
       "      <td>Ouija</td>\n",
       "      <td>242512</td>\n",
       "      <td>4.9</td>\n",
       "      <td>103590271</td>\n",
       "      <td>5000000</td>\n",
       "      <td>1.971805e+01</td>\n",
       "    </tr>\n",
       "  </tbody>\n",
       "</table>\n",
       "</div>"
      ],
      "text/plain": [
       "             title      id  vote_average    revenue    budget           roi\n",
       "4238  Modern Times    3082           8.1    8500000         1  8.499999e+06\n",
       "3137     Nurse 3-D   78383           4.9   10000000        10  9.999990e+05\n",
       "4723   The Gallows  299245           4.9   42664410    100000  4.256441e+02\n",
       "2912     Star Wars      11           8.1  775398007  11000000  6.949073e+01\n",
       "3560         Ouija  242512           4.9  103590271   5000000  1.971805e+01"
      ]
     },
     "execution_count": 114,
     "metadata": {},
     "output_type": "execute_result"
    }
   ],
   "source": [
    "## Showing the top 5 performing movies with either a 4.9 or 8.1 rating in terms of their ROI\n",
    "no_zero[(no_zero.vote_average == 4.9) | (no_zero.vote_average == 8.1)].sort_values(by = 'roi', ascending = False).head(5)"
   ]
  },
  {
   "cell_type": "markdown",
   "id": "2563c964-68bd-434f-b070-7db3635ce53a",
   "metadata": {},
   "source": [
    "We can see that there is one clear outlier for both 4.9 and 8.1 vote average.\n",
    "These are <b>Modern Times</b> and <b>Nurse 3-D</b>."
   ]
  },
  {
   "cell_type": "markdown",
   "id": "aa7a76b3-6340-4b80-861b-b3a44f60d66f",
   "metadata": {},
   "source": [
    "#### Investigating the outliers\n",
    "\n",
    "Lets first see how they compare to the average return on investment of their respective 'vote_average' counterparts."
   ]
  },
  {
   "cell_type": "markdown",
   "id": "8947bfd6-ee22-48b5-97d1-8bd571725b02",
   "metadata": {},
   "source": [
    "<b>Modern Times</b>"
   ]
  },
  {
   "cell_type": "code",
   "execution_count": 119,
   "id": "2c576193-4737-4a73-8c3c-a8126a34e028",
   "metadata": {
    "tags": []
   },
   "outputs": [
    {
     "data": {
      "text/html": [
       "<div>\n",
       "<style scoped>\n",
       "    .dataframe tbody tr th:only-of-type {\n",
       "        vertical-align: middle;\n",
       "    }\n",
       "\n",
       "    .dataframe tbody tr th {\n",
       "        vertical-align: top;\n",
       "    }\n",
       "\n",
       "    .dataframe thead th {\n",
       "        text-align: right;\n",
       "    }\n",
       "</style>\n",
       "<table border=\"1\" class=\"dataframe\">\n",
       "  <thead>\n",
       "    <tr style=\"text-align: right;\">\n",
       "      <th></th>\n",
       "      <th>Movie(s)</th>\n",
       "      <th>ROI</th>\n",
       "    </tr>\n",
       "  </thead>\n",
       "  <tbody>\n",
       "    <tr>\n",
       "      <th>0</th>\n",
       "      <td>Modern Times</td>\n",
       "      <td>8.499999e+06</td>\n",
       "    </tr>\n",
       "    <tr>\n",
       "      <th>1</th>\n",
       "      <td>Rest of 8.1 rated movies</td>\n",
       "      <td>9.029654e+00</td>\n",
       "    </tr>\n",
       "  </tbody>\n",
       "</table>\n",
       "</div>"
      ],
      "text/plain": [
       "                   Movie(s)           ROI\n",
       "0              Modern Times  8.499999e+06\n",
       "1  Rest of 8.1 rated movies  9.029654e+00"
      ]
     },
     "execution_count": 119,
     "metadata": {},
     "output_type": "execute_result"
    }
   ],
   "source": [
    "df_lst1 = [['Modern Times',\n",
    "            ## Returns the ROI for Modern Times\n",
    "            no_zero[no_zero.id == 3082]['roi'].mean()],    \n",
    "           \n",
    "           ['Rest of 8.1 rated movies',\n",
    "            ## Returns the average ROI for all 8.1 rated movies that aren't Modern Times\n",
    "            no_zero[(no_zero.id != 3082) & (no_zero.vote_average == 8.1)]['roi'].mean()]]\n",
    "\n",
    "## Turn the above list in the form [[name, result], [name,result]] into a DataFrame\n",
    "mt = pd.DataFrame(df_lst1, columns = ['Movie(s)','ROI'])\n",
    "\n",
    "## Showing the Dataframe\n",
    "mt"
   ]
  },
  {
   "cell_type": "markdown",
   "id": "31e8073a-e9b2-4a86-b10d-6f53467ce71e",
   "metadata": {},
   "source": [
    "<b>Nurse 3-D</b>"
   ]
  },
  {
   "cell_type": "code",
   "execution_count": 122,
   "id": "ec9bef07-8d3d-4fbb-a6bf-ba9b26036716",
   "metadata": {
    "tags": []
   },
   "outputs": [
    {
     "data": {
      "text/html": [
       "<div>\n",
       "<style scoped>\n",
       "    .dataframe tbody tr th:only-of-type {\n",
       "        vertical-align: middle;\n",
       "    }\n",
       "\n",
       "    .dataframe tbody tr th {\n",
       "        vertical-align: top;\n",
       "    }\n",
       "\n",
       "    .dataframe thead th {\n",
       "        text-align: right;\n",
       "    }\n",
       "</style>\n",
       "<table border=\"1\" class=\"dataframe\">\n",
       "  <thead>\n",
       "    <tr style=\"text-align: right;\">\n",
       "      <th></th>\n",
       "      <th>Movie(s)</th>\n",
       "      <th>ROI</th>\n",
       "    </tr>\n",
       "  </thead>\n",
       "  <tbody>\n",
       "    <tr>\n",
       "      <th>0</th>\n",
       "      <td>Nurse 3-D</td>\n",
       "      <td>999999.000000</td>\n",
       "    </tr>\n",
       "    <tr>\n",
       "      <th>1</th>\n",
       "      <td>Rest of 4.9 rated movies</td>\n",
       "      <td>10.657284</td>\n",
       "    </tr>\n",
       "  </tbody>\n",
       "</table>\n",
       "</div>"
      ],
      "text/plain": [
       "                   Movie(s)            ROI\n",
       "0                 Nurse 3-D  999999.000000\n",
       "1  Rest of 4.9 rated movies      10.657284"
      ]
     },
     "execution_count": 122,
     "metadata": {},
     "output_type": "execute_result"
    }
   ],
   "source": [
    "df_lst2 = [['Nurse 3-D',\n",
    "            ## Returns the revenue/budget for Nurse 3-D\n",
    "            no_zero[no_zero.id == 78383]['roi'].mean()],\n",
    "           \n",
    "           ['Rest of 4.9 rated movies', \n",
    "            ## Returns the average revenue/budget for all 4.9 rated movies that aren't Nurse 3-D\n",
    "            no_zero[(no_zero.id != 78383) & (no_zero.vote_average == 4.9)]['roi'].mean()]]\n",
    "\n",
    "## Turn the above list in the form [[name, result], [name,result]] into a DataFrame\n",
    "n3d = pd.DataFrame(df_lst2, columns = ['Movie(s)','ROI'])\n",
    "\n",
    "## Showing the Dataframe\n",
    "n3d"
   ]
  },
  {
   "cell_type": "markdown",
   "id": "d2a799de-7240-47db-b69d-37b4a7f8f9aa",
   "metadata": {},
   "source": [
    "##### How do they compare to the rest of the data?\n",
    "\n",
    "Though the revenue generated per unit spent for Modern Times and Nurse 3-D look impressive in comparison to equivalently rated movies, how do they stand in comparison to all of the movies in the dataset."
   ]
  },
  {
   "cell_type": "markdown",
   "id": "3e469c00-c3a1-4074-a2f2-742236ce9973",
   "metadata": {},
   "source": [
    "Lets check the top 5 movies"
   ]
  },
  {
   "cell_type": "code",
   "execution_count": 126,
   "id": "563cb74e-aadf-4cd2-933b-e269d48ce138",
   "metadata": {
    "tags": []
   },
   "outputs": [
    {
     "data": {
      "text/html": [
       "<div>\n",
       "<style scoped>\n",
       "    .dataframe tbody tr th:only-of-type {\n",
       "        vertical-align: middle;\n",
       "    }\n",
       "\n",
       "    .dataframe tbody tr th {\n",
       "        vertical-align: top;\n",
       "    }\n",
       "\n",
       "    .dataframe thead th {\n",
       "        text-align: right;\n",
       "    }\n",
       "</style>\n",
       "<table border=\"1\" class=\"dataframe\">\n",
       "  <thead>\n",
       "    <tr style=\"text-align: right;\">\n",
       "      <th></th>\n",
       "      <th>title</th>\n",
       "      <th>id</th>\n",
       "      <th>vote_average</th>\n",
       "      <th>revenue</th>\n",
       "      <th>budget</th>\n",
       "      <th>roi</th>\n",
       "    </tr>\n",
       "  </thead>\n",
       "  <tbody>\n",
       "    <tr>\n",
       "      <th>4238</th>\n",
       "      <td>Modern Times</td>\n",
       "      <td>3082</td>\n",
       "      <td>8.1</td>\n",
       "      <td>8500000</td>\n",
       "      <td>1</td>\n",
       "      <td>8.499999e+06</td>\n",
       "    </tr>\n",
       "    <tr>\n",
       "      <th>3137</th>\n",
       "      <td>Nurse 3-D</td>\n",
       "      <td>78383</td>\n",
       "      <td>4.9</td>\n",
       "      <td>10000000</td>\n",
       "      <td>10</td>\n",
       "      <td>9.999990e+05</td>\n",
       "    </tr>\n",
       "    <tr>\n",
       "      <th>4577</th>\n",
       "      <td>Paranormal Activity</td>\n",
       "      <td>23827</td>\n",
       "      <td>5.9</td>\n",
       "      <td>193355800</td>\n",
       "      <td>15000</td>\n",
       "      <td>1.288939e+04</td>\n",
       "    </tr>\n",
       "    <tr>\n",
       "      <th>4582</th>\n",
       "      <td>Tarnation</td>\n",
       "      <td>1435</td>\n",
       "      <td>7.5</td>\n",
       "      <td>1162014</td>\n",
       "      <td>218</td>\n",
       "      <td>5.329339e+03</td>\n",
       "    </tr>\n",
       "    <tr>\n",
       "      <th>4496</th>\n",
       "      <td>The Blair Witch Project</td>\n",
       "      <td>2667</td>\n",
       "      <td>6.3</td>\n",
       "      <td>248000000</td>\n",
       "      <td>60000</td>\n",
       "      <td>4.132333e+03</td>\n",
       "    </tr>\n",
       "  </tbody>\n",
       "</table>\n",
       "</div>"
      ],
      "text/plain": [
       "                        title     id  vote_average    revenue  budget  \\\n",
       "4238             Modern Times   3082           8.1    8500000       1   \n",
       "3137                Nurse 3-D  78383           4.9   10000000      10   \n",
       "4577      Paranormal Activity  23827           5.9  193355800   15000   \n",
       "4582                Tarnation   1435           7.5    1162014     218   \n",
       "4496  The Blair Witch Project   2667           6.3  248000000   60000   \n",
       "\n",
       "               roi  \n",
       "4238  8.499999e+06  \n",
       "3137  9.999990e+05  \n",
       "4577  1.288939e+04  \n",
       "4582  5.329339e+03  \n",
       "4496  4.132333e+03  "
      ]
     },
     "execution_count": 126,
     "metadata": {},
     "output_type": "execute_result"
    }
   ],
   "source": [
    "no_zero.sort_values(by = 'roi', ascending = False).head(5) ## Comparing the t~op 5 movies in terms of ROI"
   ]
  },
  {
   "cell_type": "markdown",
   "id": "602a8488-2b7b-44f8-a8bc-794012d87f31",
   "metadata": {},
   "source": [
    "Here we can see that Mordern Times and Nurse 3-D outperform the 3rd highest measuring movie in terms of return on investment by roughly 660 times and 80 times respectively showing they are clearly outliers and easily to top 2 performing movies in this measure"
   ]
  },
  {
   "cell_type": "markdown",
   "id": "e0a33993-738b-4b03-9334-c953ae3755e0",
   "metadata": {},
   "source": [
    "#### Lets remove our discovered outliers\n",
    "\n",
    "Now we have discovered outliers that affected the plot above lets try again without the outliers to see if there is a pattern."
   ]
  },
  {
   "cell_type": "code",
   "execution_count": 130,
   "id": "4ab2e966-3532-430f-829f-190a400639c9",
   "metadata": {
    "tags": []
   },
   "outputs": [],
   "source": [
    "no_zero2 = no_zero[(no_zero.id != 78383) & (no_zero.id != 3082)].copy()"
   ]
  },
  {
   "cell_type": "code",
   "execution_count": 132,
   "id": "28252efd-a7b8-4973-ba63-51e332dabbc8",
   "metadata": {
    "tags": []
   },
   "outputs": [],
   "source": [
    "vote_group3 = no_zero2.groupby(['vote_average'])[['roi']].mean().copy()"
   ]
  },
  {
   "cell_type": "code",
   "execution_count": 134,
   "id": "53299136-47a8-4e81-a0f2-60524b4a347b",
   "metadata": {
    "tags": []
   },
   "outputs": [
    {
     "name": "stderr",
     "output_type": "stream",
     "text": [
      "C:\\Users\\taich\\anaconda3\\Lib\\site-packages\\seaborn\\_oldcore.py:1119: FutureWarning: use_inf_as_na option is deprecated and will be removed in a future version. Convert inf values to NaN before operating instead.\n",
      "  with pd.option_context('mode.use_inf_as_na', True):\n",
      "C:\\Users\\taich\\anaconda3\\Lib\\site-packages\\seaborn\\_oldcore.py:1119: FutureWarning: use_inf_as_na option is deprecated and will be removed in a future version. Convert inf values to NaN before operating instead.\n",
      "  with pd.option_context('mode.use_inf_as_na', True):\n"
     ]
    },
    {
     "data": {
      "image/png": "[encoded data removed]",
      "text/plain": [
       "<Figure size 640x480 with 1 Axes>"
      ]
     },
     "metadata": {},
     "output_type": "display_data"
    }
   ],
   "source": [
    "## Creates a line plot measuring ROI as vote_average increases\n",
    "vote_rev2 = sns.lineplot(x = 'vote_average',\n",
    "                        y = 'roi',\n",
    "                        data = vote_group3)\n",
    "\n",
    "## Give the plot a title and label the axes\n",
    "plt.xlabel('Average vote')\n",
    "plt.ylabel('Return on investment')\n",
    "plt.title('How change in Average Vote affects ROI')\n",
    "\n",
    "plt.show()"
   ]
  },
  {
   "cell_type": "markdown",
   "id": "920984f1-7301-4fc9-9098-bbde0070f664",
   "metadata": {
    "tags": []
   },
   "source": [
    "#### What is the takeaway?\n",
    "\n",
    "Though we have seen that both the revenue and average vote of a movie directly correlates with the average revenue generated, we can clearly see there is no real correlation between the average vote of a movie and the revenue generated per unit budgeted.\n",
    "\n",
    "Furthermore, the second highest performing movie in this measure has a below average rating which is around 1.3 lower than the dataset average which can be seen below:"
   ]
  },
  {
   "cell_type": "code",
   "execution_count": 137,
   "id": "573e9e16-1f3d-47dd-a43c-1314c119b29a",
   "metadata": {
    "tags": []
   },
   "outputs": [
    {
     "data": {
      "text/plain": [
       "6.227531225086367"
      ]
     },
     "execution_count": 137,
     "metadata": {},
     "output_type": "execute_result"
    }
   ],
   "source": [
    "no_zero['vote_average'].mean() ## Mean vote_average for movies with a budget > 0."
   ]
  },
  {
   "cell_type": "markdown",
   "id": "8eaf8ebe-26bc-4c3b-89e5-0a963b26a8ea",
   "metadata": {},
   "source": [
    "<hr/>"
   ]
  },
  {
   "cell_type": "markdown",
   "id": "4b0df965-7302-4ea3-a4b4-42dc43eea290",
   "metadata": {
    "tags": []
   },
   "source": [
    "## Conclusion"
   ]
  },
  {
   "cell_type": "markdown",
   "id": "884a084d-0352-4d65-805f-3a05c7945aa4",
   "metadata": {},
   "source": [
    "We can see correlation between higher budget and higher vote average leading to a higher revenue on average. However, there is no correlation between the revenue generated per unit budgeted and the vote average. It is difficult to say why this is without analysing budgetting for the films at each of the vote averages which was not possible due to time constraints.\n",
    "\n",
    "Since we can see that an increase in average vote is correlated to an increase in revenue, we can infer that movies with better ratings leads to an increase in revenue. This could happen because as more people enjoy the movie and give it a good reputation, it encourages more people to go and watch it.\n",
    "\n",
    "Also, increasing the budgeting for the movie increases the revenue generated on average. This could be because with a bigger budget, production companies can afford better movie enhancing features such as better CGI. Another factor that an increase in budget will affect is the advertising. More advertising budget will lead to an increase in people knowing about the film and therefore, going to see it.\n",
    "\n",
    "Since there is no correlation between the return on investment and the vote average, we can infer that directing the budget towards increasing the viewer experience may not necessarily lead to an increase in profitability. "
   ]
  }
 ],
 "metadata": {
  "kernelspec": {
   "display_name": "Python 3 (ipykernel)",
   "language": "python",
   "name": "python3"
  },
  "language_info": {
   "codemirror_mode": {
    "name": "ipython",
    "version": 3
   },
   "file_extension": ".py",
   "mimetype": "text/x-python",
   "name": "python",
   "nbconvert_exporter": "python",
   "pygments_lexer": "ipython3",
   "version": "3.11.7"
  }
 },
 "nbformat": 4,
 "nbformat_minor": 5
}
